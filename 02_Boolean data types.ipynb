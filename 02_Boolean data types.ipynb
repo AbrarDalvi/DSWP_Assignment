{
 "cells": [
  {
   "cell_type": "markdown",
   "id": "a8cfbe5c-c280-465c-b215-00fb2123a84a",
   "metadata": {},
   "source": [
    "# Boolean"
   ]
  },
  {
   "cell_type": "code",
   "execution_count": 2,
   "id": "f5097c8c-24e8-45f7-9282-cc02a2181b85",
   "metadata": {},
   "outputs": [
    {
     "name": "stdout",
     "output_type": "stream",
     "text": [
      "True False\n"
     ]
    }
   ],
   "source": [
    "print(True,False)"
   ]
  },
  {
   "cell_type": "code",
   "execution_count": 6,
   "id": "3f4d733f-c296-4182-a271-30c1d0e3edb5",
   "metadata": {},
   "outputs": [
    {
     "data": {
      "text/plain": [
       "bool"
      ]
     },
     "execution_count": 6,
     "metadata": {},
     "output_type": "execute_result"
    }
   ],
   "source": [
    "type(True)"
   ]
  },
  {
   "cell_type": "code",
   "execution_count": 8,
   "id": "dc555490-d4a3-4e4f-b8fd-2d86b288709f",
   "metadata": {},
   "outputs": [
    {
     "data": {
      "text/plain": [
       "bool"
      ]
     },
     "execution_count": 8,
     "metadata": {},
     "output_type": "execute_result"
    }
   ],
   "source": [
    "type(False)"
   ]
  },
  {
   "cell_type": "code",
   "execution_count": 10,
   "id": "2a3eacc4-bb81-4823-9f8c-2f4f0e7bbc43",
   "metadata": {},
   "outputs": [],
   "source": [
    "mystr=\"Mdl10\""
   ]
  },
  {
   "cell_type": "code",
   "execution_count": 14,
   "id": "846fd9d8-23bc-4cb9-a230-3c42ac5bff42",
   "metadata": {},
   "outputs": [
    {
     "name": "stdout",
     "output_type": "stream",
     "text": [
      "True\n"
     ]
    }
   ],
   "source": [
    "print(mystr.isalnum())"
   ]
  },
  {
   "cell_type": "code",
   "execution_count": 16,
   "id": "3f3fd80a-65eb-4d3f-92cf-d9356bd6c1f3",
   "metadata": {},
   "outputs": [
    {
     "name": "stdout",
     "output_type": "stream",
     "text": [
      "False\n"
     ]
    }
   ],
   "source": [
    "print(mystr.isalpha()) #check all the character in the string are alphabet"
   ]
  },
  {
   "cell_type": "code",
   "execution_count": 18,
   "id": "3859843b-b098-4012-be6d-79342e242b49",
   "metadata": {},
   "outputs": [
    {
     "name": "stdout",
     "output_type": "stream",
     "text": [
      "False\n"
     ]
    }
   ],
   "source": [
    "print(mystr.isdigit()) #check all the character in the string are digit"
   ]
  },
  {
   "cell_type": "code",
   "execution_count": 20,
   "id": "c19a3868-19a5-497c-aab8-6d95af6724f7",
   "metadata": {},
   "outputs": [
    {
     "name": "stdout",
     "output_type": "stream",
     "text": [
      "True\n"
     ]
    }
   ],
   "source": [
    "print(mystr.istitle()) #check all the character in the string are title"
   ]
  },
  {
   "cell_type": "code",
   "execution_count": 22,
   "id": "ec739efd-16ef-42fa-a467-d0b49559e2fb",
   "metadata": {},
   "outputs": [
    {
     "name": "stdout",
     "output_type": "stream",
     "text": [
      "False\n"
     ]
    }
   ],
   "source": [
    "print(mystr.isupper())"
   ]
  },
  {
   "cell_type": "code",
   "execution_count": 24,
   "id": "8c53c514-54f9-497a-a6d7-b68540748652",
   "metadata": {},
   "outputs": [
    {
     "name": "stdout",
     "output_type": "stream",
     "text": [
      "False\n"
     ]
    }
   ],
   "source": [
    "print(mystr.islower())"
   ]
  },
  {
   "cell_type": "markdown",
   "id": "c1ebf6c5-5ab6-4b5f-9a64-a2e469ea4b11",
   "metadata": {},
   "source": [
    "# Logical Operator"
   ]
  },
  {
   "cell_type": "code",
   "execution_count": 27,
   "id": "87fb6677-2938-4214-ba76-fcf85cdf95cc",
   "metadata": {},
   "outputs": [
    {
     "data": {
      "text/plain": [
       "True"
      ]
     },
     "execution_count": 27,
     "metadata": {},
     "output_type": "execute_result"
    }
   ],
   "source": [
    "True and True"
   ]
  },
  {
   "cell_type": "code",
   "execution_count": 29,
   "id": "dd57db7a-44af-4a65-b74b-b1abfc29f409",
   "metadata": {},
   "outputs": [
    {
     "data": {
      "text/plain": [
       "False"
      ]
     },
     "execution_count": 29,
     "metadata": {},
     "output_type": "execute_result"
    }
   ],
   "source": [
    "True and False"
   ]
  },
  {
   "cell_type": "code",
   "execution_count": 31,
   "id": "9e2a2590-55ef-4ab9-9d65-70c1b7724b8d",
   "metadata": {},
   "outputs": [
    {
     "data": {
      "text/plain": [
       "False"
      ]
     },
     "execution_count": 31,
     "metadata": {},
     "output_type": "execute_result"
    }
   ],
   "source": [
    "False and False"
   ]
  },
  {
   "cell_type": "code",
   "execution_count": 33,
   "id": "5f2451ed-bba5-4ceb-8a97-7a8c11338399",
   "metadata": {},
   "outputs": [
    {
     "data": {
      "text/plain": [
       "True"
      ]
     },
     "execution_count": 33,
     "metadata": {},
     "output_type": "execute_result"
    }
   ],
   "source": [
    "True or True"
   ]
  },
  {
   "cell_type": "code",
   "execution_count": 35,
   "id": "b55d044c-80d8-4bb0-ac56-328dfc68f6a2",
   "metadata": {},
   "outputs": [
    {
     "data": {
      "text/plain": [
       "True"
      ]
     },
     "execution_count": 35,
     "metadata": {},
     "output_type": "execute_result"
    }
   ],
   "source": [
    "True or False"
   ]
  },
  {
   "cell_type": "code",
   "execution_count": 37,
   "id": "c3fc3266-b065-4b8c-ac95-26cdff4b01b3",
   "metadata": {},
   "outputs": [
    {
     "data": {
      "text/plain": [
       "False"
      ]
     },
     "execution_count": 37,
     "metadata": {},
     "output_type": "execute_result"
    }
   ],
   "source": [
    "False or False"
   ]
  },
  {
   "cell_type": "code",
   "execution_count": 45,
   "id": "5a730fdf-0892-4289-93d5-223c8d6a5f53",
   "metadata": {},
   "outputs": [
    {
     "data": {
      "text/plain": [
       "True"
      ]
     },
     "execution_count": 45,
     "metadata": {},
     "output_type": "execute_result"
    }
   ],
   "source": [
    "str='mdl'\n",
    "mystr='111'\n",
    "str.isalnum() or mystr.isnum()"
   ]
  },
  {
   "cell_type": "code",
   "execution_count": null,
   "id": "92cf235d-4ba8-4885-8f14-0e88d4abad38",
   "metadata": {},
   "outputs": [],
   "source": []
  }
 ],
 "metadata": {
  "kernelspec": {
   "display_name": "Python [conda env:base] *",
   "language": "python",
   "name": "conda-base-py"
  },
  "language_info": {
   "codemirror_mode": {
    "name": "ipython",
    "version": 3
   },
   "file_extension": ".py",
   "mimetype": "text/x-python",
   "name": "python",
   "nbconvert_exporter": "python",
   "pygments_lexer": "ipython3",
   "version": "3.12.7"
  }
 },
 "nbformat": 4,
 "nbformat_minor": 5
}
