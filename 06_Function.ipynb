{
 "cells": [
  {
   "cell_type": "markdown",
   "id": "928ebc5e-9f77-454c-b2a3-031fc4826cc8",
   "metadata": {},
   "source": [
    "# Python Functions\n",
    " A function is a block of code which only runs when it is called.\n",
    "\n",
    " You can pass data, known as parameters, into a function.\n",
    "\n",
    " A function can return data as a result."
   ]
  },
  {
   "cell_type": "markdown",
   "id": "90ad9ecd-b0ae-46f8-8454-0537c42bff0c",
   "metadata": {},
   "source": [
    "# Creating a Function\n",
    "- In Python a function is defined using the def keyword:"
   ]
  },
  {
   "cell_type": "code",
   "execution_count": 2,
   "id": "0cac9910-4db8-4589-8e10-3f77befe32e8",
   "metadata": {},
   "outputs": [],
   "source": [
    "def my_function():\n",
    "  print(\"Hello from a function\")"
   ]
  },
  {
   "cell_type": "markdown",
   "id": "ea7e662d-b59b-410b-b703-f0a700a66ebd",
   "metadata": {},
   "source": [
    "## Calling a Function\n",
    "- To call a function, use the function name followed by parenthesis:"
   ]
  },
  {
   "cell_type": "code",
   "execution_count": 3,
   "id": "f2e05270-4585-461b-af0c-f40183988c81",
   "metadata": {},
   "outputs": [
    {
     "name": "stdout",
     "output_type": "stream",
     "text": [
      "Hello from a function\n"
     ]
    }
   ],
   "source": [
    "def my_function():\n",
    "  print(\"Hello from a function\")\n",
    "\n",
    "my_function()"
   ]
  },
  {
   "cell_type": "markdown",
   "id": "6edda7b4-dc2b-428a-aafc-e9536c748851",
   "metadata": {},
   "source": [
    "# Arguments\n",
    "Information can be passed into functions as arguments.\n",
    "\n",
    "Arguments are specified after the function name, inside the parentheses. You can add as many arguments as you want, just separate them with a comma.\n",
    "\n",
    "The following example has a function with one argument (fname). When the function is called, we pass along a first name, which is used inside the function to print the full name:\n",
    "\n"
   ]
  },
  {
   "cell_type": "code",
   "execution_count": 1,
   "id": "564ce833-6d64-4bfe-a481-798341dec0eb",
   "metadata": {},
   "outputs": [
    {
     "name": "stdout",
     "output_type": "stream",
     "text": [
      "Engineer Abrar\n",
      "Engineer Saeeb\n",
      "Engineer Arpit\n"
     ]
    }
   ],
   "source": [
    "def my_function(fname):\n",
    "  print(  \"Engineer \" + fname)\n",
    "my_function(\"Abrar\")\n",
    "my_function(\"Saeeb\")\n",
    "my_function(\"Arpit\")"
   ]
  },
  {
   "cell_type": "markdown",
   "id": "a8e934f0-cdee-4cc5-a0ea-8046b659138a",
   "metadata": {},
   "source": [
    "# Parameters or Arguments?\n",
    "The terms parameter and argument can be used for the same thing: information that are passed into a function.\n",
    "\n",
    "From a function's perspective:\n",
    "\n",
    "A parameter is the variable listed inside the parentheses in the function definition.\n",
    "\n",
    "An argument is the value that is sent to the function when it is called."
   ]
  },
  {
   "cell_type": "markdown",
   "id": "85bf74bf-56b1-4948-9cbf-c142f2d4f6ed",
   "metadata": {},
   "source": [
    "# Number of Arguments\n",
    "By default, a function must be called with the correct number of arguments. Meaning that if your function expects 2 arguments, you have to call the function with 2 arguments, not more, and not less.\n"
   ]
  },
  {
   "cell_type": "code",
   "execution_count": 3,
   "id": "84c79eb4-dd02-49fc-8b9d-b3d63f2024f9",
   "metadata": {},
   "outputs": [
    {
     "name": "stdout",
     "output_type": "stream",
     "text": [
      "Abrar Dalvi\n"
     ]
    }
   ],
   "source": [
    "# This function expects 2 arguments, and gets 2 arguments:\n",
    "\n",
    "def my_function(fname, lname):\n",
    "  print(fname + \" \" + lname)\n",
    "\n",
    "my_function(\"Abrar\", \"Dalvi\")"
   ]
  },
  {
   "cell_type": "code",
   "execution_count": 5,
   "id": "7705e360-5f1a-4399-8590-c4c1a68887e7",
   "metadata": {},
   "outputs": [
    {
     "ename": "TypeError",
     "evalue": "my_function() missing 1 required positional argument: 'lname'",
     "output_type": "error",
     "traceback": [
      "\u001b[0;31m---------------------------------------------------------------------------\u001b[0m",
      "\u001b[0;31mTypeError\u001b[0m                                 Traceback (most recent call last)",
      "Cell \u001b[0;32mIn[5], line 6\u001b[0m\n\u001b[1;32m      3\u001b[0m \u001b[38;5;28;01mdef\u001b[39;00m \u001b[38;5;21mmy_function\u001b[39m(fname, lname):\n\u001b[1;32m      4\u001b[0m   \u001b[38;5;28mprint\u001b[39m(fname \u001b[38;5;241m+\u001b[39m \u001b[38;5;124m\"\u001b[39m\u001b[38;5;124m \u001b[39m\u001b[38;5;124m\"\u001b[39m \u001b[38;5;241m+\u001b[39m lname)\n\u001b[0;32m----> 6\u001b[0m my_function(\u001b[38;5;124m\"\u001b[39m\u001b[38;5;124mAbrar\u001b[39m\u001b[38;5;124m\"\u001b[39m)\n",
      "\u001b[0;31mTypeError\u001b[0m: my_function() missing 1 required positional argument: 'lname'"
     ]
    }
   ],
   "source": [
    "# This function expects 2 arguments, but gets only 1:\n",
    "\n",
    "def my_function(fname, lname):\n",
    "  print(fname + \" \" + lname)\n",
    "\n",
    "my_function(\"Abrar\")"
   ]
  },
  {
   "cell_type": "code",
   "execution_count": null,
   "id": "3b7ca591-d9fb-4906-a5ce-cc8c8088f485",
   "metadata": {},
   "outputs": [],
   "source": [
    "# Arbitrary Arguments, *args\n",
    "If you do not know how many arguments that will be passed into your function, add a * before the parameter name in the function definition.\n",
    "Size\n",
    "This way the function will receive a tuple of arguments, and can access the items accordingly:\n"
   ]
  },
  {
   "cell_type": "code",
   "execution_count": 11,
   "id": "8206ae2e-dc0e-4300-b12f-26228b65b75b",
   "metadata": {},
   "outputs": [
    {
     "name": "stdout",
     "output_type": "stream",
     "text": [
      "The youngest child is Anthony\n"
     ]
    }
   ],
   "source": [
    "#If the number of arguments is unknown, add a * before the parameter name:\n",
    "# Arbitrary Arguments are often shortened to *args in Python documentation.\n",
    "def my_function(*kids):\n",
    "  print(\"The youngest child is \" + kids[2])\n",
    "\n",
    "my_function(\"Amar\", \"Akbar\", \"Anthony\")"
   ]
  },
  {
   "cell_type": "markdown",
   "id": "97c3aed2-e373-445f-ae20-67af996e8a91",
   "metadata": {},
   "source": [
    "# Keyword Arguments\n",
    "You can also send arguments with the key = value syntax.\n",
    "\n",
    "This way the order of the arguments does not matter."
   ]
  },
  {
   "cell_type": "code",
   "execution_count": 14,
   "id": "c61f217c-6e91-4ee3-9f83-ea70ae955380",
   "metadata": {},
   "outputs": [
    {
     "name": "stdout",
     "output_type": "stream",
     "text": [
      "The youngest child is Hari\n"
     ]
    }
   ],
   "source": [
    "def my_function(child3, child2, child1):\n",
    "  print(\"The youngest child is \" + child3)\n",
    "\n",
    "my_function(child1 = \"Ismail\", child2 = \"Ishaq\", child3 = \"Hari\")"
   ]
  },
  {
   "cell_type": "markdown",
   "id": "cb794bc5-8454-4bed-914c-a0aa5444a6e2",
   "metadata": {},
   "source": [
    "# Arbitrary Keyword Arguments, **kwargs\n",
    "If you do not know how many keyword arguments that will be passed into your function, add two asterisk: ** before the parameter name in the function definition.\n",
    "\n",
    "This way the function will receive a dictionary of arguments, and can access the items accordingly:"
   ]
  },
  {
   "cell_type": "code",
   "execution_count": 14,
   "id": "057a473a-fd2a-4c32-b682-7445c5462388",
   "metadata": {},
   "outputs": [
    {
     "name": "stdout",
     "output_type": "stream",
     "text": [
      "His first name is Ram\n",
      "His last name is Shinde\n"
     ]
    }
   ],
   "source": [
    "# If the number of keyword arguments is unknown, add a double ** before the parameter name:\n",
    "\n",
    "def my_function(**kid):\n",
    "  print(\"His first name is \" + kid[\"fname\"])\n",
    "  print(\"His last name is \" + kid[\"lname\"])\n",
    "\n",
    "my_function(fname = \"Ram\", lname = \"Shinde\")"
   ]
  },
  {
   "cell_type": "markdown",
   "id": "bf12fe01-d9aa-4e8c-8a9c-e612f825c813",
   "metadata": {},
   "source": [
    "# Default Parameter Value\n",
    "The following example shows how to use a default parameter value.\n",
    "\n",
    "If we call the function without argument, it uses the default value:\n",
    "\n"
   ]
  },
  {
   "cell_type": "code",
   "execution_count": 1,
   "id": "26f05563-5467-435f-8224-d92d91538ebd",
   "metadata": {},
   "outputs": [
    {
     "name": "stdout",
     "output_type": "stream",
     "text": [
      "I am from Sweden\n",
      "I am from India\n",
      "I am from Norway\n",
      "I am from Brazil\n"
     ]
    }
   ],
   "source": [
    "def my_function(country = \"Norway\"):\n",
    "  print(\"I am from \" + country)\n",
    "\n",
    "my_function(\"Sweden\")\n",
    "my_function(\"India\")\n",
    "my_function()\n",
    "my_function(\"Brazil\")"
   ]
  },
  {
   "cell_type": "markdown",
   "id": "b4299db1-3a4a-4726-a6c0-2126c30ef93f",
   "metadata": {},
   "source": [
    "# Passing a List as an Argument\n",
    "You can send any data types of argument to a function (string, number, list, dictionary etc.), and it will be treated as the same data type inside the function.\n",
    "\n",
    "E.g. if you send a List as an argument, it will still be a List when it reaches the function:\n",
    "\n"
   ]
  },
  {
   "cell_type": "code",
   "execution_count": 2,
   "id": "0590577c-a140-4041-8526-2a74d5a9ec92",
   "metadata": {},
   "outputs": [
    {
     "name": "stdout",
     "output_type": "stream",
     "text": [
      "apple\n",
      "banana\n",
      "cherry\n"
     ]
    }
   ],
   "source": [
    "def my_function(food):\n",
    "  for x in food:\n",
    "    print(x)\n",
    "\n",
    "fruits = [\"apple\", \"banana\", \"cherry\"]\n",
    "\n",
    "my_function(fruits)"
   ]
  },
  {
   "cell_type": "code",
   "execution_count": null,
   "id": "660a6dad-9e7d-4eb1-af87-ce3478c30d0d",
   "metadata": {},
   "outputs": [],
   "source": []
  }
 ],
 "metadata": {
  "kernelspec": {
   "display_name": "Python [conda env:base] *",
   "language": "python",
   "name": "conda-base-py"
  },
  "language_info": {
   "codemirror_mode": {
    "name": "ipython",
    "version": 3
   },
   "file_extension": ".py",
   "mimetype": "text/x-python",
   "name": "python",
   "nbconvert_exporter": "python",
   "pygments_lexer": "ipython3",
   "version": "3.12.7"
  }
 },
 "nbformat": 4,
 "nbformat_minor": 5
}
