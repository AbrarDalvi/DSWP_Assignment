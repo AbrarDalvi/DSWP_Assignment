{
 "cells": [
  {
   "cell_type": "markdown",
   "id": "bc34b06c-463e-4441-8e3c-5b24fd0424a6",
   "metadata": {},
   "source": [
    "# Python Programming"
   ]
  },
  {
   "cell_type": "markdown",
   "id": "6e7783ce-890f-405e-b4d1-17c53e70a393",
   "metadata": {},
   "source": [
    "- Data types"
   ]
  },
  {
   "cell_type": "code",
   "execution_count": 17,
   "id": "27bee4a8-5c64-4639-86ce-0341bc680ff6",
   "metadata": {},
   "outputs": [
    {
     "data": {
      "text/plain": [
       "int"
      ]
     },
     "execution_count": 17,
     "metadata": {},
     "output_type": "execute_result"
    }
   ],
   "source": [
    "type(1)"
   ]
  },
  {
   "cell_type": "code",
   "execution_count": 19,
   "id": "b827af4d-65b5-4816-b03c-a820badddb51",
   "metadata": {},
   "outputs": [
    {
     "data": {
      "text/plain": [
       "str"
      ]
     },
     "execution_count": 19,
     "metadata": {},
     "output_type": "execute_result"
    }
   ],
   "source": [
    "type(\"Hello\")"
   ]
  },
  {
   "cell_type": "code",
   "execution_count": 23,
   "id": "04eca4c9-c251-4b3a-b2f1-7d963f0c6b60",
   "metadata": {},
   "outputs": [
    {
     "data": {
      "text/plain": [
       "bool"
      ]
     },
     "execution_count": 23,
     "metadata": {},
     "output_type": "execute_result"
    }
   ],
   "source": [
    "type(True)"
   ]
  },
  {
   "cell_type": "code",
   "execution_count": 25,
   "id": "29bd6207-d6e7-42da-92fe-d7d48aa8ce32",
   "metadata": {},
   "outputs": [
    {
     "data": {
      "text/plain": [
       "float"
      ]
     },
     "execution_count": 25,
     "metadata": {},
     "output_type": "execute_result"
    }
   ],
   "source": [
    "type(1.0)"
   ]
  },
  {
   "cell_type": "markdown",
   "id": "274cb310-f0df-4752-a6e9-2f9a4901c0f6",
   "metadata": {},
   "source": [
    "- Strings"
   ]
  },
  {
   "cell_type": "code",
   "execution_count": 29,
   "id": "26bd5e12-db0f-4816-a1a6-6785dec28621",
   "metadata": {},
   "outputs": [
    {
     "data": {
      "text/plain": [
       "'hello'"
      ]
     },
     "execution_count": 29,
     "metadata": {},
     "output_type": "execute_result"
    }
   ],
   "source": [
    "\"hello\""
   ]
  },
  {
   "cell_type": "code",
   "execution_count": 31,
   "id": "df10fb1f-e06f-4fe2-bdeb-c4a78172ea97",
   "metadata": {},
   "outputs": [
    {
     "data": {
      "text/plain": [
       "'hello'"
      ]
     },
     "execution_count": 31,
     "metadata": {},
     "output_type": "execute_result"
    }
   ],
   "source": [
    "'hello'\n"
   ]
  },
  {
   "cell_type": "code",
   "execution_count": 33,
   "id": "54230ba3-07cd-4e63-b4f7-890a39212dc4",
   "metadata": {},
   "outputs": [
    {
     "data": {
      "text/plain": [
       "str"
      ]
     },
     "execution_count": 33,
     "metadata": {},
     "output_type": "execute_result"
    }
   ],
   "source": [
    "type(\"Hello\")"
   ]
  },
  {
   "cell_type": "code",
   "execution_count": 35,
   "id": "4ed6920b-275f-42cf-963f-ec9f6e2a6781",
   "metadata": {},
   "outputs": [
    {
     "data": {
      "text/plain": [
       "str"
      ]
     },
     "execution_count": 35,
     "metadata": {},
     "output_type": "execute_result"
    }
   ],
   "source": [
    "type('Hello')"
   ]
  },
  {
   "cell_type": "markdown",
   "id": "9a8f5437-a273-4b1e-8124-90f8474af42f",
   "metadata": {},
   "source": [
    "# Variable Assignment"
   ]
  },
  {
   "cell_type": "code",
   "execution_count": 40,
   "id": "1776724b-eb48-49c5-a2ac-60aebc7cc476",
   "metadata": {},
   "outputs": [],
   "source": [
    "# var name=value"
   ]
  },
  {
   "cell_type": "code",
   "execution_count": 42,
   "id": "a0830efd-a867-4c4a-9cdb-8dcb2899cfb1",
   "metadata": {},
   "outputs": [],
   "source": [
    "a = 10"
   ]
  },
  {
   "cell_type": "code",
   "execution_count": 44,
   "id": "3643cee2-691a-46c3-82ba-a333fcd18ccf",
   "metadata": {},
   "outputs": [
    {
     "data": {
      "text/plain": [
       "int"
      ]
     },
     "execution_count": 44,
     "metadata": {},
     "output_type": "execute_result"
    }
   ],
   "source": [
    "type(a)"
   ]
  },
  {
   "cell_type": "code",
   "execution_count": 46,
   "id": "c837613c-058b-446b-9c97-2f0b59739c16",
   "metadata": {},
   "outputs": [],
   "source": [
    "a=\"MDL\""
   ]
  },
  {
   "cell_type": "code",
   "execution_count": 48,
   "id": "e44bd91f-5432-41ad-a295-0969e67c177a",
   "metadata": {},
   "outputs": [
    {
     "data": {
      "text/plain": [
       "str"
      ]
     },
     "execution_count": 48,
     "metadata": {},
     "output_type": "execute_result"
    }
   ],
   "source": [
    "type(a)"
   ]
  },
  {
   "cell_type": "code",
   "execution_count": 50,
   "id": "19be36c8-0303-4584-b429-ead5dc949970",
   "metadata": {},
   "outputs": [],
   "source": [
    "## Mathematical Operation\n",
    "a=10\n",
    "b=20"
   ]
  },
  {
   "cell_type": "code",
   "execution_count": 52,
   "id": "dc5da6d7-a5c6-4836-b369-bd4c43dc3f80",
   "metadata": {},
   "outputs": [
    {
     "name": "stdout",
     "output_type": "stream",
     "text": [
      "30\n",
      "200\n",
      "0\n",
      "200.5\n"
     ]
    }
   ],
   "source": [
    "print(a+b)\n",
    "print(a*b)\n",
    "print(b%a)\n",
    "print((a*b)+(a/b))"
   ]
  },
  {
   "cell_type": "markdown",
   "id": "7e585373-392e-4958-86fb-c88b6490d4bf",
   "metadata": {},
   "source": [
    "# Print"
   ]
  },
  {
   "cell_type": "markdown",
   "id": "d6804258-4cc8-4fe4-8597-69dcc8db573d",
   "metadata": {},
   "source": [
    "s=\"AMD\"\n",
    "print(s)"
   ]
  },
  {
   "cell_type": "markdown",
   "id": "c58ead1b-cdea-430a-8c07-d1d97f189f9c",
   "metadata": {},
   "source": [
    "# Multiple Variable"
   ]
  },
  {
   "cell_type": "code",
   "execution_count": 58,
   "id": "be1ba169-fefd-4114-8065-98ad129f1176",
   "metadata": {},
   "outputs": [
    {
     "name": "stdout",
     "output_type": "stream",
     "text": [
      "Saeeb is 18 Fajandar\n"
     ]
    }
   ],
   "source": [
    "s=\"Saeeb is\"\n",
    "age=18\n",
    "city=\"Fajandar\"\n",
    "print(s,age,city)"
   ]
  },
  {
   "cell_type": "code",
   "execution_count": 60,
   "id": "adfae6a9-13c2-4ea7-9a15-5c2bee3c5ef1",
   "metadata": {},
   "outputs": [
    {
     "name": "stdout",
     "output_type": "stream",
     "text": [
      "AMD\n"
     ]
    }
   ],
   "source": [
    "print('AMD')"
   ]
  },
  {
   "cell_type": "code",
   "execution_count": 62,
   "id": "101db6a4-6740-4fc1-abfe-f5215db79bc7",
   "metadata": {},
   "outputs": [],
   "source": [
    "first_name ='Abrar'\n",
    "last_name = 'Dalvi'"
   ]
  },
  {
   "cell_type": "code",
   "execution_count": 66,
   "id": "b8a74457-a9cd-4d3f-b634-6ccf4c95a94a",
   "metadata": {},
   "outputs": [
    {
     "name": "stdout",
     "output_type": "stream",
     "text": [
      "My first name is Abrar and last name is Dalvi\n"
     ]
    }
   ],
   "source": [
    "print(\"My first name is {} and last name is {}\".format(first_name,last_name))"
   ]
  },
  {
   "cell_type": "markdown",
   "id": "57e16229-1401-43ab-8d77-14669e836da8",
   "metadata": {},
   "source": [
    "# Using sep and end parameter"
   ]
  },
  {
   "cell_type": "markdown",
   "id": "f0af58f0-f5c3-4ba0-9857-4be4a375b6c7",
   "metadata": {},
   "source": [
    "## end Parameter with '@'"
   ]
  },
  {
   "cell_type": "code",
   "execution_count": 72,
   "id": "c991cdc1-f792-44b0-8920-d8b824336135",
   "metadata": {},
   "outputs": [
    {
     "name": "stdout",
     "output_type": "stream",
     "text": [
      "python@programming\n"
     ]
    }
   ],
   "source": [
    "print(\"python\",end='@')\n",
    "print(\"programming\")"
   ]
  },
  {
   "cell_type": "code",
   "execution_count": 80,
   "id": "8e01eecc-e25f-4044-9f97-c26ff84d5f7e",
   "metadata": {},
   "outputs": [
    {
     "name": "stdout",
     "output_type": "stream",
     "text": [
      "saeeb@dbatu.ac.in\n"
     ]
    }
   ],
   "source": [
    "print('saeeb','dbatu.ac.in',sep='@')"
   ]
  },
  {
   "cell_type": "markdown",
   "id": "7629bf48-a6ee-4a12-8825-c86d9c8aee60",
   "metadata": {},
   "source": [
    "# Separating with Comma"
   ]
  },
  {
   "cell_type": "code",
   "execution_count": 85,
   "id": "b1df2173-7118-4d5c-92bd-32c42db683f7",
   "metadata": {},
   "outputs": [
    {
     "name": "stdout",
     "output_type": "stream",
     "text": [
      "GFG\n"
     ]
    }
   ],
   "source": [
    "print('G','F','G',sep='')"
   ]
  },
  {
   "cell_type": "markdown",
   "id": "6e1ffba7-5954-4e00-95d1-531058bd96c0",
   "metadata": {},
   "source": [
    "# for formatting a date"
   ]
  },
  {
   "cell_type": "code",
   "execution_count": 90,
   "id": "6c7ef342-7db4-4f2c-a7be-e4ddcb4789d5",
   "metadata": {},
   "outputs": [
    {
     "name": "stdout",
     "output_type": "stream",
     "text": [
      "09-02-2025\n"
     ]
    }
   ],
   "source": [
    "print('09','02','2025',sep='-')"
   ]
  },
  {
   "cell_type": "markdown",
   "id": "2a689dc4-471f-43b3-898e-0c835916c93e",
   "metadata": {},
   "source": [
    "# Using f-string"
   ]
  },
  {
   "cell_type": "code",
   "execution_count": 93,
   "id": "8284c973-01b4-47fc-8b20-758421b113c6",
   "metadata": {},
   "outputs": [
    {
     "name": "stdout",
     "output_type": "stream",
     "text": [
      "Hello,My name is Abrar and I am19years old.\n"
     ]
    }
   ],
   "source": [
    "name='Abrar'\n",
    "age=19\n",
    "print(f\"Hello,My name is {name} and I am{age}years old.\")"
   ]
  },
  {
   "cell_type": "markdown",
   "id": "7495e9a9-b63b-460f-9675-d6e076c0f104",
   "metadata": {},
   "source": [
    "# Using the % Operator"
   ]
  },
  {
   "cell_type": "code",
   "execution_count": 98,
   "id": "c949ef91-4b05-4378-a407-f1ef01443a50",
   "metadata": {},
   "outputs": [
    {
     "name": "stdin",
     "output_type": "stream",
     "text": [
      "Enter a value:  123\n"
     ]
    },
    {
     "name": "stdout",
     "output_type": "stream",
     "text": [
      "The sum is 128\n"
     ]
    }
   ],
   "source": [
    "# Taking input from the user\n",
    "num = int(input(\"Enter a value: \"))\n",
    "add = num + 5\n",
    "# Output\n",
    "print(\"The sum is %d\" %add)\n"
   ]
  },
  {
   "cell_type": "markdown",
   "id": "7b7a0e7d-a3a4-46ab-97e3-628604201d5b",
   "metadata": {},
   "source": [
    "# Take Multiple Input in Python"
   ]
  },
  {
   "cell_type": "code",
   "execution_count": 105,
   "id": "c3fa4bea-df16-40db-8199-e3762f3a3458",
   "metadata": {},
   "outputs": [
    {
     "name": "stdin",
     "output_type": "stream",
     "text": [
      "Enter two values :  4 6\n"
     ]
    },
    {
     "name": "stdout",
     "output_type": "stream",
     "text": [
      "Number of boys :  4\n",
      "Number of girls :  6\n"
     ]
    }
   ],
   "source": [
    "# taking two inputs at a time \n",
    "x,y=input(\"Enter two values : \").split()\n",
    "print(\"Number of boys : \",x)\n",
    "print(\"Number of girls : \",y)"
   ]
  },
  {
   "cell_type": "code",
   "execution_count": 109,
   "id": "8b7f1ec1-372e-4470-b903-6e6e39799bab",
   "metadata": {},
   "outputs": [
    {
     "name": "stdin",
     "output_type": "stream",
     "text": [
      "Enter three values :  12 6 6\n"
     ]
    },
    {
     "name": "stdout",
     "output_type": "stream",
     "text": [
      "Total number of students :  12\n",
      "Number of boys are :  6\n",
      "Number of girls are :  6\n"
     ]
    }
   ],
   "source": [
    "# taking three inputs at a time\n",
    "x,y,z=input(\"Enter three values : \").split()\n",
    "print(\"Total number of students : \",x)\n",
    "print(\"Number of boys are : \",y)\n",
    "print(\"Number of girls are : \",z)"
   ]
  },
  {
   "cell_type": "markdown",
   "id": "c7b7fec8-8025-4601-b5bf-12abba21b2c7",
   "metadata": {},
   "source": [
    "# Take Conditional input from user in python"
   ]
  },
  {
   "cell_type": "code",
   "execution_count": 116,
   "id": "9c7c4bd6-c4e7-4fc6-a620-3368ebeabee8",
   "metadata": {},
   "outputs": [
    {
     "name": "stdin",
     "output_type": "stream",
     "text": [
      "Enter your age :  12\n"
     ]
    },
    {
     "name": "stdout",
     "output_type": "stream",
     "text": [
      "You are a minor.\n"
     ]
    }
   ],
   "source": [
    "# Prompting the user for input\n",
    "age_input = input(\"Enter your age : \")\n",
    "\n",
    "# Converting the input to an integer\n",
    "age = int(age_input)\n",
    "# Checking conditions based on user input\n",
    "if age < 0:\n",
    "    print(\"Please enter a valid age.\")\n",
    "elif age<18:\n",
    "    print(\"You are a minor.\")\n",
    "elif age>=18 and age<65: \n",
    "    print(\"You are an adult.\") w\n",
    "else:\n",
    "    print(\"You are a senior citizen.\")"
   ]
  },
  {
   "cell_type": "markdown",
   "id": "e417c927-c8fc-46f0-b916-c0d24c9a5ce0",
   "metadata": {},
   "source": [
    "# Taking input in python "
   ]
  },
  {
   "cell_type": "code",
   "execution_count": 119,
   "id": "04721bc9-65e7-485f-92e0-4f508b507da4",
   "metadata": {},
   "outputs": [
    {
     "name": "stdin",
     "output_type": "stream",
     "text": [
      "Enter your name:  AMD\n"
     ]
    },
    {
     "name": "stdout",
     "output_type": "stream",
     "text": [
      "Hello AMD !Welcome!\n"
     ]
    }
   ],
   "source": [
    "name=input(\"Enter your name: \")\n",
    "print(\"Hello\",name, \"!Welcome!\")"
   ]
  },
  {
   "cell_type": "markdown",
   "id": "ae82e1e8-c183-48bf-8084-097887bd23f5",
   "metadata": {},
   "source": [
    "# How to change the type of input in python"
   ]
  },
  {
   "cell_type": "code",
   "execution_count": 122,
   "id": "22071d11-cbee-42c4-ba26-a1936e9433fe",
   "metadata": {},
   "outputs": [
    {
     "name": "stdin",
     "output_type": "stream",
     "text": [
      "What color is rose?:  Red\n"
     ]
    },
    {
     "name": "stdout",
     "output_type": "stream",
     "text": [
      "Red\n"
     ]
    }
   ],
   "source": [
    "# Taking input as string\n",
    "color = input(\"What color is rose?: \")\n",
    "print(color)"
   ]
  },
  {
   "cell_type": "code",
   "execution_count": 124,
   "id": "5c8945f7-b1a7-4268-a6ff-d174320fef83",
   "metadata": {},
   "outputs": [
    {
     "name": "stdin",
     "output_type": "stream",
     "text": [
      "How many roses?:  6\n"
     ]
    },
    {
     "name": "stdout",
     "output_type": "stream",
     "text": [
      "6\n"
     ]
    }
   ],
   "source": [
    "# Taking input as int\n",
    "# Typecasting to int\n",
    "n=int(input(\"How many roses?: \"))\n",
    "print(n)\n"
   ]
  },
  {
   "cell_type": "code",
   "execution_count": null,
   "id": "a7bb2ef2-118f-4c4d-891d-291cc126bfca",
   "metadata": {},
   "outputs": [],
   "source": [
    "# Taking input as float\n",
    "# Typecasting to float\n"
   ]
  },
  {
   "cell_type": "markdown",
   "id": "21f5b742-358e-4ac3-b075-93e86a9c162a",
   "metadata": {},
   "source": [
    "# Find DataType of input in python"
   ]
  },
  {
   "cell_type": "code",
   "execution_count": 133,
   "id": "9be932b2-3273-4ca0-b5ec-0ba2aa768ee2",
   "metadata": {},
   "outputs": [
    {
     "name": "stdout",
     "output_type": "stream",
     "text": [
      "<class 'str'>\n",
      "<class 'int'>\n",
      "<class 'float'>\n",
      "<class 'dict'>\n",
      "<class 'tuple'>\n",
      "<class 'list'>\n"
     ]
    }
   ],
   "source": [
    "a=\"Hello World\"\n",
    "b=10\n",
    "c=11.22\n",
    "d=(\"Computers\",\"for\",\"students\")\n",
    "e=[\"Computers\",\"for\",\"students\"]\n",
    "f={\"Computers\":1,\"for\":2,\"students\":3}\n",
    "\n",
    "print(type(a))\n",
    "print(type(b))\n",
    "print(type(c))\n",
    "print(type(f))\n",
    "print(type(d))\n",
    "print(type(e))"
   ]
  },
  {
   "cell_type": "code",
   "execution_count": null,
   "id": "76bd5567-4760-4d9b-ac08-591babf18053",
   "metadata": {},
   "outputs": [],
   "source": []
  }
 ],
 "metadata": {
  "kernelspec": {
   "display_name": "Python [conda env:base] *",
   "language": "python",
   "name": "conda-base-py"
  },
  "language_info": {
   "codemirror_mode": {
    "name": "ipython",
    "version": 3
   },
   "file_extension": ".py",
   "mimetype": "text/x-python",
   "name": "python",
   "nbconvert_exporter": "python",
   "pygments_lexer": "ipython3",
   "version": "3.12.7"
  }
 },
 "nbformat": 4,
 "nbformat_minor": 5
}
