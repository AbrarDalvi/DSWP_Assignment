{
 "cells": [
  {
   "cell_type": "markdown",
   "id": "f294488e-d6d2-4714-bf46-86e18eeca832",
   "metadata": {},
   "source": [
    "## Python list of Programs"
   ]
  },
  {
   "cell_type": "markdown",
   "id": "e8d7711e-9c39-490d-aff6-1072861b3bcf",
   "metadata": {},
   "source": [
    "#### Compulsory to use function"
   ]
  },
  {
   "cell_type": "markdown",
   "id": "ba058e2d-3e9a-494d-a60b-5ed1cee19dc7",
   "metadata": {},
   "source": [
    "#### 1. Check the given number is odd or even"
   ]
  },
  {
   "cell_type": "code",
   "execution_count": 10,
   "id": "ebf4f7cb-2536-4807-a5f5-25b4bde09760",
   "metadata": {},
   "outputs": [
    {
     "name": "stdin",
     "output_type": "stream",
     "text": [
      "Enter a number:  12\n"
     ]
    },
    {
     "name": "stdout",
     "output_type": "stream",
     "text": [
      "12 is Even\n"
     ]
    }
   ],
   "source": [
    "def check_odd_even(number):\n",
    "    if number %2 ==0:\n",
    "        return f\"{number} is Even\"\n",
    "    else:\n",
    "        return f\"{number} is Odd\"\n",
    "\n",
    "num =int(input(\"Enter a number: \"))\n",
    "result = check_odd_even(num)\n",
    "print(result)"
   ]
  },
  {
   "cell_type": "markdown",
   "id": "920bf096-3f6a-4359-bf00-e07a1a427894",
   "metadata": {},
   "source": [
    "#### 2. Count the total number of digits in a number"
   ]
  },
  {
   "cell_type": "code",
   "execution_count": 15,
   "id": "99d68308-9168-4240-a2df-dc7de055df59",
   "metadata": {},
   "outputs": [
    {
     "name": "stdin",
     "output_type": "stream",
     "text": [
      "Enter a number:  4562\n"
     ]
    },
    {
     "name": "stdout",
     "output_type": "stream",
     "text": [
      "Total digits in 4562 = 4\n"
     ]
    }
   ],
   "source": [
    "def count_digits(number):\n",
    "    return len(str(abs(number)))\n",
    "num=int(input(\"Enter a number: \"))\n",
    "print(f\"Total digits in {num} = {count_digits(num)}\")\n"
   ]
  },
  {
   "cell_type": "markdown",
   "id": "202ee6b4-7b52-46ed-9309-f80f7ddd4336",
   "metadata": {},
   "source": [
    "#### 3. Print the reverse number pattern using for loop"
   ]
  },
  {
   "cell_type": "code",
   "execution_count": 24,
   "id": "431c9eb8-5bde-4c1f-b7ba-553fd641e80b",
   "metadata": {},
   "outputs": [
    {
     "name": "stdin",
     "output_type": "stream",
     "text": [
      "Enter a number:  5\n"
     ]
    },
    {
     "name": "stdout",
     "output_type": "stream",
     "text": [
      "5\n",
      "4\n",
      "3\n",
      "2\n",
      "1\n",
      "4\n",
      "3\n",
      "2\n",
      "1\n",
      "3\n",
      "2\n",
      "1\n",
      "2\n",
      "1\n",
      "1\n"
     ]
    }
   ],
   "source": [
    "def reverse_pattern(n):\n",
    "    for i in range(n,0,-1):\n",
    "        for j in range(i,0,-1):\n",
    "            print(j,end='')\n",
    "            print()\n",
    "\n",
    "num=int(input(\"Enter a number: \"))\n",
    "reverse_pattern(num)     \n"
   ]
  },
  {
   "cell_type": "markdown",
   "id": "349d5613-48ab-48dc-b91d-a5d783ff8e3b",
   "metadata": {},
   "source": [
    "#### 4. Print all numbers within a range "
   ]
  },
  {
   "cell_type": "code",
   "execution_count": 40,
   "id": "9389cfd0-4418-4652-8da6-6551039dffbe",
   "metadata": {},
   "outputs": [
    {
     "name": "stdin",
     "output_type": "stream",
     "text": [
      "Enter start of range:  10\n",
      "Enter end of range:  20\n"
     ]
    },
    {
     "name": "stdout",
     "output_type": "stream",
     "text": [
      "Prime numbers between 10 and 20 are: \n",
      "11131719"
     ]
    }
   ],
   "source": [
    "def is_prime(num):\n",
    "    if num<= 1:\n",
    "        return False\n",
    "    for i in range(2,int(num**0.5)+1):\n",
    "         if num % i==0:\n",
    "             return False\n",
    "    return True\n",
    "\n",
    "def print_primes(start,end):\n",
    "    print(f\"Prime numbers between {start} and {end} are: \")\n",
    "    for num in range(start,end+1):\n",
    "        if is_prime(num):\n",
    "            print(num,end='')\n",
    "\n",
    "start=int(input(\"Enter start of range: \"))\n",
    "end=int(input(\"Enter end of range: \"))\n",
    "print_primes(start,end)"
   ]
  },
  {
   "cell_type": "markdown",
   "id": "f5f32c0e-ac06-4ece-8686-2dface6faa9d",
   "metadata": {},
   "source": [
    "#### 5. Find the Factorial Of a given number"
   ]
  },
  {
   "cell_type": "code",
   "execution_count": 101,
   "id": "4f0d2eaf-bedc-4959-8f49-7d78a1710611",
   "metadata": {},
   "outputs": [
    {
     "name": "stdin",
     "output_type": "stream",
     "text": [
      "Enter a number:  5\n"
     ]
    },
    {
     "name": "stdout",
     "output_type": "stream",
     "text": [
      "Factorial of 5=120\n"
     ]
    }
   ],
   "source": [
    "def factorial(n):\n",
    "    result=1\n",
    "    for i in range(1,n+1):\n",
    "        result*=i\n",
    "    return result\n",
    "\n",
    "num = int(input(\"Enter a number: \"))\n",
    "print(f\"Factorial of {num}={factorial(num)}\")\n",
    " "
   ]
  },
  {
   "cell_type": "markdown",
   "id": "73579e6a-d280-454a-808c-9dffb5230b35",
   "metadata": {},
   "source": [
    "#### 6. Program to check if number is palindrome"
   ]
  },
  {
   "cell_type": "code",
   "execution_count": 45,
   "id": "2f4a6504-3d10-47f4-8117-1ae56360e3b2",
   "metadata": {},
   "outputs": [
    {
     "name": "stdin",
     "output_type": "stream",
     "text": [
      "Enter a number:  456\n"
     ]
    },
    {
     "name": "stdout",
     "output_type": "stream",
     "text": [
      "456 is Not a Palindrom\n"
     ]
    }
   ],
   "source": [
    "def is_palindrome(num):\n",
    "    return str(num)==str(num)[::-1]\n",
    "\n",
    "num=int(input(\"Enter a number: \"))\n",
    "if is_palindrome(num):\n",
    "    print(f\"{num} is a Palindrome\")\n",
    "else:\n",
    "    print(f\"{num} is Not a Palindrome\")"
   ]
  },
  {
   "cell_type": "markdown",
   "id": "82755d03-4285-4ea6-9a1c-35a0ff57aa31",
   "metadata": {},
   "source": [
    "#### 7. Program to check Armstrong number"
   ]
  },
  {
   "cell_type": "code",
   "execution_count": 105,
   "id": "6ccd0bd5-7795-48da-b437-cb263d5148d8",
   "metadata": {},
   "outputs": [
    {
     "name": "stdin",
     "output_type": "stream",
     "text": [
      "Enter a number:  153\n"
     ]
    },
    {
     "name": "stdout",
     "output_type": "stream",
     "text": [
      "153 is an Armstrong Number\n"
     ]
    }
   ],
   "source": [
    "def is_armstrong(num):\n",
    "    digits=str(num)\n",
    "    power=len(digits)\n",
    "    total=sum(int(d)**power for d in digits)\n",
    "    return num == total\n",
    "\n",
    "num=int(input(\"Enter a number: \"))\n",
    "if is_armstrong(num):\n",
    "    print(f\"{num} is an Armstrong Number\")    \n",
    "else: \n",
    "    print(f\"{num} is Not an Armstrong Number\")"
   ]
  },
  {
   "cell_type": "markdown",
   "id": "f75bb41c-3efd-49ec-aa88-68efb5034598",
   "metadata": {},
   "source": [
    "#### 8. Find maximum of three numbers"
   ]
  },
  {
   "cell_type": "code",
   "execution_count": 52,
   "id": "5aba78fd-8880-4645-b61d-f8b3082b9314",
   "metadata": {},
   "outputs": [
    {
     "name": "stdin",
     "output_type": "stream",
     "text": [
      "Enter first number:  10\n",
      "Enter Second number:  25\n",
      "Enter Third number:  15\n"
     ]
    },
    {
     "name": "stdout",
     "output_type": "stream",
     "text": [
      "Maximum of 10,25,15 is 25\n"
     ]
    }
   ],
   "source": [
    "def maximum_of_three(a,b,c):\n",
    "    return max(a,b,c)\n",
    "a=int(input(\"Enter first number: \"))\n",
    "b=int(input(\"Enter Second number: \"))\n",
    "c=int(input(\"Enter Third number: \"))\n",
    "print(f\"Maximum of {a},{b},{c} is {maximum_of_three(a,b,c)}\")"
   ]
  },
  {
   "cell_type": "markdown",
   "id": "3535da38-bbd9-4fef-bfe7-8aa2eec96300",
   "metadata": {},
   "source": [
    "#### 9. Find the sum of digits"
   ]
  },
  {
   "cell_type": "code",
   "execution_count": 55,
   "id": "3bf9122d-bbab-40c5-8dc8-176fae292f70",
   "metadata": {},
   "outputs": [
    {
     "name": "stdin",
     "output_type": "stream",
     "text": [
      "Enter a number:  123456789\n"
     ]
    },
    {
     "name": "stdout",
     "output_type": "stream",
     "text": [
      "Sum of digits of 123456789=45\n"
     ]
    }
   ],
   "source": [
    "def sum_of_digits(number):\n",
    "    return sum(int(digit)for digit in str(abs(number)))\n",
    "\n",
    "\n",
    "num=int(input(\"Enter a number: \"))\n",
    "print(f\"Sum of digits of {num}={sum_of_digits(num)}\")"
   ]
  },
  {
   "cell_type": "markdown",
   "id": "9249cde6-b35c-437f-8442-38ccb0d718dc",
   "metadata": {},
   "source": [
    "#### 10. Print the Natural Numbers Summation Pattern "
   ]
  },
  {
   "cell_type": "code",
   "execution_count": 98,
   "id": "a3136051-030e-42fe-85fc-b899623b3534",
   "metadata": {},
   "outputs": [
    {
     "name": "stdin",
     "output_type": "stream",
     "text": [
      "Enter a number:  5\n"
     ]
    },
    {
     "name": "stdout",
     "output_type": "stream",
     "text": [
      "1=1\n",
      "1+=3\n",
      "2=5\n",
      "1+=8\n",
      "2+=11\n",
      "3=14\n",
      "1+=18\n",
      "2+=22\n",
      "3+=26\n",
      "4=30\n",
      "1+=35\n",
      "2+=40\n",
      "3+=45\n",
      "4+=50\n",
      "5=55\n"
     ]
    }
   ],
   "source": [
    "def summation_pattern(n):\n",
    "    total = 0\n",
    "    for i in range(1,n+1):\n",
    "        for j in range(1,i+1):\n",
    "            print(j,end='')\n",
    "            if j!=i:\n",
    "             print(\"+\",end='')\n",
    "            total+=i\n",
    "            print(f\"={total}\")\n",
    "\n",
    "num = int(input(\"Enter a number: \"))\n",
    "summation_pattern(num)"
   ]
  }
 ],
 "metadata": {
  "kernelspec": {
   "display_name": "Python [conda env:base] *",
   "language": "python",
   "name": "conda-base-py"
  },
  "language_info": {
   "codemirror_mode": {
    "name": "ipython",
    "version": 3
   },
   "file_extension": ".py",
   "mimetype": "text/x-python",
   "name": "python",
   "nbconvert_exporter": "python",
   "pygments_lexer": "ipython3",
   "version": "3.12.7"
  }
 },
 "nbformat": 4,
 "nbformat_minor": 5
}
