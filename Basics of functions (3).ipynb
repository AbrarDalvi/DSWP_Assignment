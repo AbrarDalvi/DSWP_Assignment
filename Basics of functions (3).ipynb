{
 "cells": [
  {
   "cell_type": "markdown",
   "id": "cc121077-d3f3-457d-93ce-7faf9f615d98",
   "metadata": {},
   "source": [
    "# Python - Functions\n",
    " A Python function is a block of organized, reusable code that is used to perform a single, related action. Functions provide better modularity for your application and a high degree of code reusing.\n",
    " A top-to-down approach towards building the processing logic involves defining blocks of independent reusable functions. A Python function may be invoked from any other function by passing required data (called parameters or arguments). The called function returns its result back to the calling environment.\n"
   ]
  },
  {
   "cell_type": "markdown",
   "id": "6a2eb160-3c3e-47e9-bb12-4f5fdbcbe494",
   "metadata": {},
   "source": [
    "# Types of Python Functions\n",
    "Python provides the following types of functions −\n",
    "\n",
    "1        **Built-in functions**\n",
    "Python's standard library includes number of built-in functions. Some of Python's built-in functions are print(), int(), len(), sum(), etc. These functions are always available, as they are loaded into computer's memory as soon as you start Python interpreter.\n",
    "\n",
    "2\t     **Functions defined in built-in modules**\n",
    "The standard library also bundles a number of modules. Each module defines a group of functions. These functions are not readily available. You need to import them into the memory from their respective modules.\n",
    "\n",
    "3\t    **User-defined functions**\n",
    "\n",
    "In addition to the built-in functions and functions in the built-in modules, you can also create your own functions. These functions are called user-defined functions."
   ]
  },
  {
   "cell_type": "markdown",
   "id": "bcca5399-cedd-4154-b299-590e5e8fe297",
   "metadata": {},
   "source": [
    "# Defining a Python Function\n",
    "Function blocks begin with the keyword def followed by the function name and parentheses ().\n",
    "\n",
    "- Any input parameters or arguments should be placed within these parentheses. You can also define parameters inside these parentheses.\n",
    "\n",
    "- The first statement of a function can be an optional statement; the documentation string of the function or docstring.\n",
    "\n",
    "- The code block within every function starts with a colon (:) and is indented.\n",
    "\n",
    "- The statement return [expression] exits a function, optionally passing back an expression to the caller. A return statement with no arguments is the same as return None."
   ]
  },
  {
   "cell_type": "code",
   "execution_count": 1,
   "id": "7396ea09-e335-44d8-8969-3b0ae906f1dd",
   "metadata": {},
   "outputs": [],
   "source": [
    "# By default, parameters have a positional behavior and you need to inform them in the same order that they were defined.\n",
    "\n",
    "# Once the function is defined, you can execute it by calling it from another function or directly from the Python prompt."
   ]
  },
  {
   "cell_type": "markdown",
   "id": "4028564c-a84c-40a6-bef4-7ade7e35704f",
   "metadata": {},
   "source": [
    "# Example to Define a Python Function\n",
    "The following example shows how to define a function greetings(). The bracket is empty so there aren't any parameters. Here, the first line is a docstring and the function block ends with return statement."
   ]
  },
  {
   "cell_type": "code",
   "execution_count": 1,
   "id": "498f9c91-7a85-4398-a1ca-0a659e869149",
   "metadata": {},
   "outputs": [
    {
     "name": "stdout",
     "output_type": "stream",
     "text": [
      "Hello World\n"
     ]
    }
   ],
   "source": [
    "  def greetings() :\n",
    "      \"This is the doctring of greetings function\"\n",
    "      print(\"Hello World\")\n",
    "      return;\n",
    "  greetings()    "
   ]
  },
  {
   "cell_type": "markdown",
   "id": "e6294e73-8168-483f-ad0d-2836bfca1b8e",
   "metadata": {},
   "source": [
    "# Calling a Python Function\n",
    "Defining a function only gives it a name, specifies the parameters that are to be included in the function and structures the blocks of code. Once the basic structure of a function is finalized, you can call it by using the function name itself. If the function requires any parameters, they should be passed within parentheses. If the function doesn't require any parameters, the parentheses should be left empty.\n",
    "\n",
    "# Example to Call a Python Function\n",
    "Following is the example to call printme() function −"
   ]
  },
  {
   "cell_type": "code",
   "execution_count": 6,
   "id": "653b32d3-ff26-498f-b0f6-b6214e5708ee",
   "metadata": {},
   "outputs": [
    {
     "name": "stdout",
     "output_type": "stream",
     "text": [
      "I'm first call to user defined function!\n",
      "Again second call to the same function\n"
     ]
    }
   ],
   "source": [
    "# Function definition is here\n",
    "def printme(str):\n",
    "    \"This prints a passed string into this function\"\n",
    "    print(str)\n",
    "    return;\n",
    "    # Now you can call the function \n",
    "    printme(\"I am first "
   ]
  },
  {
   "cell_type": "code",
   "execution_count": 7,
   "id": "ab7a1c3b-cd2c-4379-8d03-a60c012a718d",
   "metadata": {},
   "outputs": [
    {
     "name": "stdout",
     "output_type": "stream",
     "text": [
      "Hello Sham\n",
      "Hello Pratima\n",
      "Hello Ram\n"
     ]
    }
   ],
   "source": [
    "# Let's modify greetings function and have name an argument. A string passed to the function as actual argument becomes name variable inside the function.\n",
    "\n"
   ]
  },
  {
   "cell_type": "markdown",
   "id": "472cac32-fe0e-4a3c-a40f-17fac1220ba4",
   "metadata": {},
   "source": [
    "# Python Function Arguments\n",
    "Function arguments are the values or variables passed into a function when it is called. The behavior of a function often depends on the arguments passed to it.\n",
    "\n",
    "While defining a function, you specify a list of variables (known as formal parameters) within the parentheses. These parameters act as placeholders for the data that will be passed to the function when it is called. When the function is called, value to each of the formal arguments must be provided. Those are called actual arguments.\n",
    "\n"
   ]
  },
  {
   "cell_type": "markdown",
   "id": "18b672fe-2849-4b58-9013-599bc1e2e7e4",
   "metadata": {},
   "source": [
    "# Pass by Reference vs Value\n",
    "In programming languages like C and C++, there are two main ways to pass variables to a function, which are Call by Value and Call by Reference (also known as pass by reference and pass by value). However, the way we pass variables to functions in Python differs from others.\n",
    "\n",
    "- call by value − When a variable is passed to a function while calling, the value of actual arguments is copied to the variables representing the formal arguments. Thus, any changes in formal arguments does not get reflected in the actual argument. This way of passing variable is known as call by value.\n",
    "\n",
    "- call by reference − In this way of passing variable, a reference to the object in memory is passed. Both the formal arguments and the actual arguments (variables in the calling code) refer to the same object. Hence, any changes in formal arguments does get reflected in the actual argument.\n",
    "\n",
    "  Python uses pass by reference mechanism. As variable in Python is a label or reference to the object in the memory, both the variables used as actual argument as well as formal arguments really refer to the same object in the memory. We can verify this fact by checking the id() of the passed variable before and after passing."
   ]
  },
  {
   "cell_type": "code",
   "execution_count": 8,
   "id": "163f73ec-c40e-470c-841f-22f9977f8c19",
   "metadata": {},
   "outputs": [
    {
     "name": "stdout",
     "output_type": "stream",
     "text": [
      "ID before passing: 127903789505424\n",
      "ID inside the function: 127903789505424\n"
     ]
    }
   ],
   "source": [
    "# In the following example, we are checking the id() of a variable.\n"
   ]
  },
  {
   "cell_type": "code",
   "execution_count": 9,
   "id": "7f2264a2-107a-4de5-b046-59e49c1a3362",
   "metadata": {},
   "outputs": [
    {
     "name": "stdout",
     "output_type": "stream",
     "text": [
      "ID before passing: 9767048\n",
      "ID inside the function: 9767048\n",
      "new object after increment 11 9767080\n",
      "value after function call 10\n"
     ]
    }
   ],
   "source": [
    "#If the above code is executed, the id() before passing and inside the function will be displayed.\n",
    "# The behavior also depends on whether the passed object is mutable or immutable. Python numeric object is immutable. When a numeric object is passed, and then the function changes the value of the formal argument, it actually creates a new object in the memory, leaving the original variable unchanged.\n",
    "# The following example shows how an immutable object behaves when it is passed to a function.\n"
   ]
  },
  {
   "cell_type": "code",
   "execution_count": 10,
   "id": "4ed005a7-987a-4822-a0c0-e42c69d78453",
   "metadata": {},
   "outputs": [
    {
     "name": "stdout",
     "output_type": "stream",
     "text": [
      "ID before passing: 127903789489472\n",
      "Inside function: [10, 20, 30, 40]\n",
      "ID inside the function: 127903789489472\n",
      "list after function call [10, 20, 30, 40, 100]\n"
     ]
    }
   ],
   "source": [
    "# Let us now pass a mutable object (such as a list or dictionary) to a function. It is also passed by reference, as the id() of list before and after passing is same. However, if we modify the list inside the function, its global representation also reflects the change.\n",
    "\n",
    "# Example\n",
    "# Here we pass a list, append a new item, and see the contents of original list object, which we will find has changed.\n"
   ]
  },
  {
   "cell_type": "markdown",
   "id": "d82849bf-f965-4e0d-8deb-0f8f8744ff08",
   "metadata": {},
   "source": [
    "# Types of Python Function Arguments\n",
    "Based on how the arguments are declared while defining a Python function, they are classified into the following categories −\n",
    "\n",
    "Positional or Required Arguments\n",
    "\n",
    "- Keyword Arguments\n",
    "\n",
    "- Default Arguments\n",
    "\n",
    "- Positional-only Arguments\n",
    "\n",
    "- Keyword-only arguments\n",
    "\n",
    "- Arbitrary or Variable-length Arguments\n",
    "\n"
   ]
  },
  {
   "cell_type": "markdown",
   "id": "18b03b88-aaae-49fd-9009-8ce9e62710ec",
   "metadata": {},
   "source": [
    "# Positional or Required Arguments\n",
    "Required arguments are the arguments passed to a function in correct positional order. Here, the number of arguments in the function call should match exactly with the function definition, otherwise the code gives a syntax error.\n",
    "\n"
   ]
  },
  {
   "cell_type": "code",
   "execution_count": 1,
   "id": "82754205-ea75-4072-8c1c-ff0f26f5edce",
   "metadata": {},
   "outputs": [
    {
     "ename": "TypeError",
     "evalue": "printme() missing 1 required positional argument: 'str'",
     "output_type": "error",
     "traceback": [
      "\u001b[0;31m---------------------------------------------------------------------------\u001b[0m",
      "\u001b[0;31mTypeError\u001b[0m                                 Traceback (most recent call last)",
      "Cell \u001b[0;32mIn[1], line 8\u001b[0m\n\u001b[1;32m      5\u001b[0m    \u001b[38;5;28;01mreturn\u001b[39;00m;\n\u001b[1;32m      7\u001b[0m \u001b[38;5;66;03m# Now you can call printme function\u001b[39;00m\n\u001b[0;32m----> 8\u001b[0m printme()\n",
      "\u001b[0;31mTypeError\u001b[0m: printme() missing 1 required positional argument: 'str'"
     ]
    }
   ],
   "source": [
    "# Function definition is here\n"
   ]
  },
  {
   "cell_type": "markdown",
   "id": "cddfc5f3-29f6-45d7-8fd4-d18268e755db",
   "metadata": {},
   "source": [
    "# Keyword Arguments\n",
    "Keyword arguments are related to the function calls. When you use keyword arguments in a function call, the caller identifies the arguments by the parameter name. This allows you to skip arguments or place them out of order because the Python interpreter is able to use the keywords provided to match the values with parameters.\n",
    "\n"
   ]
  },
  {
   "cell_type": "code",
   "execution_count": 2,
   "id": "857e60e4-2d2b-4bd7-bcaa-0794ff255372",
   "metadata": {},
   "outputs": [
    {
     "name": "stdout",
     "output_type": "stream",
     "text": [
      "Name:  miki\n",
      "Age  50\n"
     ]
    }
   ],
   "source": [
    "# Function definition is here\n"
   ]
  },
  {
   "cell_type": "markdown",
   "id": "a5578556-9c90-4a93-85d4-175028dbbbce",
   "metadata": {},
   "source": [
    "# Default Arguments\n",
    "A default argument is an argument that assumes a default value if a value is not provided in the function call for that argument.\n",
    "\n"
   ]
  },
  {
   "cell_type": "code",
   "execution_count": 4,
   "id": "7b7814da-fc0b-41d3-babc-22c2b7944f64",
   "metadata": {},
   "outputs": [
    {
     "name": "stdout",
     "output_type": "stream",
     "text": [
      "Name:  mdl\n",
      "Age  50\n",
      "Name:  mdl\n",
      "Age  35\n"
     ]
    }
   ],
   "source": [
    "# Function definition is here\n"
   ]
  },
  {
   "cell_type": "markdown",
   "id": "8945542e-5d31-4352-adff-f707518c880d",
   "metadata": {},
   "source": [
    "# Positional-only arguments\n",
    "Those arguments that can only be specified by their position in the function call is called as Positional-only arguments. They are defined by placing a \"/\" in the function's parameter list after all positional-only parameters. This feature was introduced with the release of Python 3.8.\n",
    "\n",
    "The benefit of using this type of argument is that it ensures the functions are called with the correct arguments in the correct order. The positional-only arguments should be passed to a function as positional arguments, not keyword arguments.\n",
    "\n"
   ]
  },
  {
   "cell_type": "code",
   "execution_count": 9,
   "id": "1e25d482-651a-4109-b214-7e52c0530e2a",
   "metadata": {},
   "outputs": [
    {
     "name": "stdout",
     "output_type": "stream",
     "text": [
      "Evaluating positional-only arguments: \n",
      "66\n"
     ]
    }
   ],
   "source": []
  },
  {
   "cell_type": "markdown",
   "id": "09437714-aac9-4e7a-b21e-a716c604b1fd",
   "metadata": {},
   "source": [
    "# Keyword-only arguments\n",
    "Those arguments that must be specified by their name while calling the function is known as Keyword-only arguments. They are defined by placing an asterisk (\"*\") in the function's parameter list before any keyword-only parameters. This type of argument can only be passed to a function as a keyword argument, not a positional argument.\n",
    "\n"
   ]
  },
  {
   "cell_type": "code",
   "execution_count": 10,
   "id": "a5f40de1-97fe-4619-920a-c2536457051f",
   "metadata": {},
   "outputs": [
    {
     "name": "stdout",
     "output_type": "stream",
     "text": [
      "Evaluating keyword-only arguments: \n",
      "240\n"
     ]
    }
   ],
   "source": [
    " "
   ]
  },
  {
   "cell_type": "markdown",
   "id": "f11d896d-efd4-4cfe-9a5f-992594fabbf5",
   "metadata": {},
   "source": [
    "# Arbitrary or Variable-length Arguments\n",
    "You may need to process a function for more arguments than you specified while defining the function. These arguments are called variable-length arguments and are not named in the function definition, unlike required and default arguments.\n",
    "An asterisk (*) is placed before the variable name that holds the values of all non-keyword variable arguments. This tuple remains empty if no additional arguments are specified during the function call."
   ]
  },
  {
   "cell_type": "code",
   "execution_count": null,
   "id": "9df967be-0d3e-4ebf-bc45-09e68c3405cd",
   "metadata": {},
   "outputs": [],
   "source": [
    "# Syntax for a function with non-keyword variable arguments is this −\n"
   ]
  },
  {
   "cell_type": "markdown",
   "id": "b40c4e7d-0dbf-467f-a3e9-ef05a0b8655d",
   "metadata": {},
   "source": [
    "# Order of Python Function Arguments\n",
    "A function can have arguments of any of the types defined above. However, the arguments must be declared in the following order −\n",
    "- The argument list begins with the positional-only args, followed by the slash (/) symbol.\n",
    "\n",
    "- It is followed by regular positional args that may or may not be called as keyword arguments.\n",
    "\n",
    "Then there may be one or more args with default values.\n",
    "\n",
    "- Next, arbitrary positional arguments represented by a variable prefixed with single asterisk, that is treated as tuple. It is the next.\n",
    "\n",
    "- If the function has any keyword-only arguments, put an asterisk before their names start. Some of the keyword-only arguments may have a default value.\n",
    "\n",
    "- Last in the bracket is argument with two asterisks ** to accept arbitrary number of keyword arguments.\n",
    "\n",
    "\n"
   ]
  },
  {
   "cell_type": "markdown",
   "id": "41c1a972-9250-4248-8004-0cd6eb2e193f",
   "metadata": {},
   "source": [
    "# Python Function with Return Value\n",
    "The return keyword as the last statement in function definition indicates end of function block, and the program flow goes back to the calling function. Although reduced indent after the last statement in the block also implies return but using explicit return is a good practice.\n",
    "\n",
    "Along with the flow control, the function can also return value of an expression to the calling function. The value of returned expression can be stored in a variable for further processing.\n",
    "\n"
   ]
  },
  {
   "cell_type": "code",
   "execution_count": 3,
   "id": "5046b533-8dd5-44c6-abd7-58932e69bbfb",
   "metadata": {},
   "outputs": [
    {
     "name": "stdout",
     "output_type": "stream",
     "text": [
      "a = 10 b = 20 a+b = 30\n"
     ]
    }
   ],
   "source": []
  },
  {
   "cell_type": "markdown",
   "id": "d824f366-aa1c-4f70-8c8f-ded0709a8079",
   "metadata": {},
   "source": [
    "# The Anonymous Functions\n",
    "The functions are called anonymous when they are not declared in the standard manner by using the def keyword. Instead, they are defined using the lambda keyword.\n",
    "\n",
    "- Lambda forms can take any number of arguments but return just one value in the form of an expression. They cannot contain commands or multiple expressions.\n",
    "\n",
    "- An anonymous function cannot be a direct call to print because lambda requires an expression\n",
    "\n",
    "- Lambda functions have their own local namespace and cannot access variables other than those in their parameter list and those in the global namespace.\n",
    "\n",
    "- Although it appears that lambda's are a one-line version of a function, they are not equivalent to inline statements in C or C++,"
   ]
  },
  {
   "cell_type": "code",
   "execution_count": 4,
   "id": "92020673-9c18-4795-8fa4-a8b3d94203c0",
   "metadata": {},
   "outputs": [
    {
     "name": "stdout",
     "output_type": "stream",
     "text": [
      "Value of total :  30\n",
      "Value of total :  40\n"
     ]
    }
   ],
   "source": [
    "# The syntax of lambda functions contains only a single statement, which is as follows −\n",
    "# Function definition is here\n",
    "\n"
   ]
  },
  {
   "cell_type": "markdown",
   "id": "1043d81c-087b-46ed-ae6b-cd99660396ae",
   "metadata": {},
   "source": [
    "# Scope of Variables\n",
    "All variables in a program may not be accessible at all locations in that program. This depends on where you have declared a variable.\n",
    "\n",
    "The scope of a variable determines the portion of the program where you can access a particular identifier. There are two basic scopes of variables in Python −\n",
    "\n",
    " - Global variables\n",
    " - Local variables\n",
    "# Global vs. Local variables\n",
    "Variables that are defined inside a function body have a local scope, and those defined outside have a global scope.\n",
    "\n",
    "This means that local variables can be accessed only inside the function in which they are declared, whereas global variables can be accessed throughout the program body by all functions. When you call a function, the variables declared inside it are brought into scope.\n",
    "\n"
   ]
  },
  {
   "cell_type": "code",
   "execution_count": 6,
   "id": "79f3170c-4d4d-4071-8e95-2c1bc78e8cd8",
   "metadata": {},
   "outputs": [
    {
     "name": "stdout",
     "output_type": "stream",
     "text": [
      "Inside the function local total :  30\n",
      "Outside the function global total :  0\n"
     ]
    }
   ],
   "source": [
    "total = 0; # This is global variable.\n",
    "# Function definition is here\n",
    "ef printinfo( name, age ):\n",
    "   \"This prints a passed info into this function\"\n",
    "   print (\"Name: \", name)\n",
    "   print (\"Age \", age)\n",
    "   return;\n",
    "\n",
    "# Now you can call printinfo function\n",
    "printinfo( age=50, name=\"miki\" )"
   ]
  },
  {
   "cell_type": "code",
   "execution_count": null,
   "id": "a6c68ed7-27d7-4635-b715-59a0b5c0e1ed",
   "metadata": {},
   "outputs": [],
   "source": []
  }
 ],
 "metadata": {
  "kernelspec": {
   "display_name": "Python [conda env:base] *",
   "language": "python",
   "name": "conda-base-py"
  },
  "language_info": {
   "codemirror_mode": {
    "name": "ipython",
    "version": 3
   },
   "file_extension": ".py",
   "mimetype": "text/x-python",
   "name": "python",
   "nbconvert_exporter": "python",
   "pygments_lexer": "ipython3",
   "version": "3.12.7"
  }
 },
 "nbformat": 4,
 "nbformat_minor": 5
}
