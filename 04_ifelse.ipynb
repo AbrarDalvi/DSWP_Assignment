{
 "cells": [
  {
   "cell_type": "markdown",
   "id": "5c6e1f18-b09c-4f91-b90f-e91a08c75503",
   "metadata": {},
   "source": [
    "# Python Conditions and if Statements"
   ]
  },
  {
   "cell_type": "markdown",
   "id": "1a922113-7835-4683-9639-d75f7268f044",
   "metadata": {},
   "source": [
    "## Python supports theusual logical conditions from mathematics:"
   ]
  },
  {
   "cell_type": "markdown",
   "id": "6f04ff7c-2559-41f2-9886-3c7fcf24a14a",
   "metadata": {},
   "source": [
    "- Equals:a==b\n",
    "- Not equals: a!=b\n",
    "- Less than:a<b\n",
    "- Less than  or equal to:a<=b\n",
    "- Greater than:a>b\n",
    "- Greater than or equal to:a>=b\n",
    "##### These conditions can be used in several ways,most commonly in \"if statements\" and loops.\n",
    "\n"
   ]
  },
  {
   "cell_type": "markdown",
   "id": "87e07512-a5ae-4cb2-8c96-78ce8d4c2a15",
   "metadata": {},
   "source": [
    "##### An if statement is written by using the if keyword"
   ]
  },
  {
   "cell_type": "code",
   "execution_count": 9,
   "id": "287e0abf-9ea5-4102-bea2-a4f8cd587058",
   "metadata": {},
   "outputs": [
    {
     "name": "stdout",
     "output_type": "stream",
     "text": [
      "b is greater than a\n"
     ]
    }
   ],
   "source": [
    "a=33\n",
    "b=200\n",
    "if b>a:\n",
    "    print(\"b is greater than a\")"
   ]
  },
  {
   "cell_type": "code",
   "execution_count": 11,
   "id": "bd4f16bf-0a61-4a4c-98a6-ed6e31bf2c9f",
   "metadata": {},
   "outputs": [
    {
     "ename": "SyntaxError",
     "evalue": "expected ':' (2077198316.py, line 4)",
     "output_type": "error",
     "traceback": [
      "\u001b[0;36m  Cell \u001b[0;32mIn[11], line 4\u001b[0;36m\u001b[0m\n\u001b[0;31m    if b>a\u001b[0m\n\u001b[0m          ^\u001b[0m\n\u001b[0;31mSyntaxError\u001b[0m\u001b[0;31m:\u001b[0m expected ':'\n"
     ]
    }
   ],
   "source": [
    "# If statement ,without identation (will raise an error):\n",
    "a=33\n",
    "b=200\n",
    "if b>a\n",
    "print(\"b is greater than a\") # you will get an error"
   ]
  },
  {
   "cell_type": "code",
   "execution_count": 13,
   "id": "0ef0358d-ae83-422e-bc89-04447dd83e92",
   "metadata": {},
   "outputs": [
    {
     "name": "stdout",
     "output_type": "stream",
     "text": [
      "b and a are equal\n"
     ]
    }
   ],
   "source": [
    "## Elif\n",
    "# The elif keyword is Python's way of saying \"if the previous conditions were not true,then try this condition\".\n",
    "a=33\n",
    "b=33\n",
    "if b>a:\n",
    "    print(\"b is greater than a\")\n",
    "elif b==a:\n",
    "    print(\"b and a are equal\")"
   ]
  },
  {
   "cell_type": "code",
   "execution_count": 15,
   "id": "0be3e468-c4f6-4159-89bc-bc51369dbbfb",
   "metadata": {},
   "outputs": [
    {
     "name": "stdout",
     "output_type": "stream",
     "text": [
      "a is greater than b\n"
     ]
    }
   ],
   "source": [
    "## Else\n",
    "# The else keyword catches anything which isn't caught by the preceding conditions.\n",
    "a=200\n",
    "b=33\n",
    "if b>a:\n",
    "    print(\"b is greater than a\")\n",
    "elif b==a:\n",
    "    print(\"a and b are equal\")\n",
    "else:\n",
    "    print(\"a is greater than b\") "
   ]
  },
  {
   "cell_type": "code",
   "execution_count": 19,
   "id": "39097ba7-2c31-422c-bbbe-33eca5fc9cb3",
   "metadata": {},
   "outputs": [
    {
     "name": "stdout",
     "output_type": "stream",
     "text": [
      "b is not greater than a\n"
     ]
    }
   ],
   "source": [
    "a=200\n",
    "b=33\n",
    "if b>a:\n",
    "    print(\"b is greater than a\")\n",
    "else:\n",
    "    print(\"b is not greater than a\")"
   ]
  },
  {
   "cell_type": "code",
   "execution_count": 21,
   "id": "17a4d520-6a2a-4255-8598-752619b555f1",
   "metadata": {},
   "outputs": [
    {
     "name": "stdout",
     "output_type": "stream",
     "text": [
      "a is greater than b\n"
     ]
    }
   ],
   "source": [
    "# Short Hand If\n",
    "# If you have onky one statement to execute,you can put it on the same line as the if statement.\n",
    "\n",
    "# one line if statement:\n",
    "if a>b: print(\"a is greater than b\")"
   ]
  },
  {
   "cell_type": "code",
   "execution_count": null,
   "id": "e7d8a977-d167-4bb7-a3be-53b016452898",
   "metadata": {},
   "outputs": [],
   "source": []
  }
 ],
 "metadata": {
  "kernelspec": {
   "display_name": "Python [conda env:base] *",
   "language": "python",
   "name": "conda-base-py"
  },
  "language_info": {
   "codemirror_mode": {
    "name": "ipython",
    "version": 3
   },
   "file_extension": ".py",
   "mimetype": "text/x-python",
   "name": "python",
   "nbconvert_exporter": "python",
   "pygments_lexer": "ipython3",
   "version": "3.12.7"
  }
 },
 "nbformat": 4,
 "nbformat_minor": 5
}
