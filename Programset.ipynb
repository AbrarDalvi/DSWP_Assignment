{
 "cells": [
  {
   "cell_type": "markdown",
   "id": "1adebc6c-4e78-4ed2-a9bb-d86261b8ef8a",
   "metadata": {},
   "source": [
    "## Programs on Set"
   ]
  },
  {
   "cell_type": "markdown",
   "id": "f11467a0-405f-4adc-9978-ecc3ff49130d",
   "metadata": {},
   "source": [
    "### Basic set programs"
   ]
  },
  {
   "cell_type": "markdown",
   "id": "6885538a-2b1d-431f-addc-0dbe94319f81",
   "metadata": {},
   "source": [
    "##### 1.Create a set and display its elements"
   ]
  },
  {
   "cell_type": "code",
   "execution_count": 1,
   "id": "54ea5ea8-29f5-4287-8f97-97f19e3eca62",
   "metadata": {},
   "outputs": [
    {
     "name": "stdout",
     "output_type": "stream",
     "text": [
      "The elements in the set are : \n",
      "50\n",
      "20\n",
      "40\n",
      "10\n",
      "30\n"
     ]
    }
   ],
   "source": [
    "my_set={10,20,30,40,50}\n",
    "print(\"The elements in the set are : \")\n",
    "for element in my_set:\n",
    "    print(element)"
   ]
  },
  {
   "cell_type": "markdown",
   "id": "4dd55a3c-b515-4749-bf5b-0e4886234c89",
   "metadata": {},
   "source": [
    "##### 2.Add an element to a set"
   ]
  },
  {
   "cell_type": "code",
   "execution_count": 7,
   "id": "d226ba2c-25c9-43a8-a895-7352b674f87e",
   "metadata": {},
   "outputs": [
    {
     "name": "stdout",
     "output_type": "stream",
     "text": [
      "Set after  :  {1, 2, 3, 4}\n"
     ]
    }
   ],
   "source": [
    "my_set = {1,2,3}\n",
    "my_set.add(4)\n",
    "print(\"Set after  : \",my_set)"
   ]
  },
  {
   "cell_type": "markdown",
   "id": "321cb3d4-921c-4e9b-9a1f-d029f3f0d8be",
   "metadata": {},
   "source": [
    "##### 3.Remove an element from a set"
   ]
  },
  {
   "cell_type": "code",
   "execution_count": 13,
   "id": "acec5557-f48e-475f-854c-b043037faafd",
   "metadata": {},
   "outputs": [
    {
     "name": "stdout",
     "output_type": "stream",
     "text": [
      "Set after :  {65, 34, 12}\n"
     ]
    }
   ],
   "source": [
    "my_set = {12,34,45,65}\n",
    "my_set.remove(45)\n",
    "print(\"Set after : \",my_set)"
   ]
  },
  {
   "cell_type": "markdown",
   "id": "c10de9bc-dded-4e4a-9882-1f154568f669",
   "metadata": {},
   "source": [
    "##### 4.Clear all elments from set"
   ]
  },
  {
   "cell_type": "code",
   "execution_count": 15,
   "id": "e9f3481f-6e8a-42d1-9b30-e026f6097cdb",
   "metadata": {},
   "outputs": [
    {
     "name": "stdout",
     "output_type": "stream",
     "text": [
      "Set after :  set()\n"
     ]
    }
   ],
   "source": [
    "my_set = {12,34,45,65}\n",
    "my_set.clear()\n",
    "print(\"Set after : \",my_set)"
   ]
  },
  {
   "cell_type": "markdown",
   "id": "a29d6a04-2cf9-4245-86f3-3168fbfeb4b9",
   "metadata": {},
   "source": [
    "##### 5.Copy a set to another set"
   ]
  },
  {
   "cell_type": "code",
   "execution_count": 17,
   "id": "4760d674-7f56-4469-907f-f63697524839",
   "metadata": {},
   "outputs": [
    {
     "name": "stdout",
     "output_type": "stream",
     "text": [
      "Original Set:  {200, 100, 300}\n",
      "Copied Set:  {200, 100, 300}\n"
     ]
    }
   ],
   "source": [
    "original_set = {100,200,300}\n",
    "copied_set = original_set.copy()\n",
    "\n",
    "print(\"Original Set: \",original_set)\n",
    "print(\"Copied Set: \",copied_set)"
   ]
  },
  {
   "cell_type": "markdown",
   "id": "1f7c4c77-8b52-4c52-ba3d-0e03c9a3cfc1",
   "metadata": {},
   "source": [
    "##### 6.Check if an element exist in a set"
   ]
  },
  {
   "cell_type": "code",
   "execution_count": 21,
   "id": "81dd730e-0e6c-416c-8a14-2b0af0064676",
   "metadata": {},
   "outputs": [
    {
     "name": "stdout",
     "output_type": "stream",
     "text": [
      "Element 30 exists in the set.\n"
     ]
    }
   ],
   "source": [
    "my_set = {10,20,30,40,50}\n",
    "if 30 in my_set:\n",
    "    print(\"Element 30 exists in the set.\")\n",
    "else:\n",
    "     print(\"Element 30 does not exists in the set.\")"
   ]
  },
  {
   "cell_type": "markdown",
   "id": "9a46962a-ee0b-4d32-b0d0-160f24ef9b89",
   "metadata": {},
   "source": [
    "##### 7.Find the length of a set"
   ]
  },
  {
   "cell_type": "code",
   "execution_count": 23,
   "id": "ba666e25-60e1-4adc-b133-fd83d03cd2bc",
   "metadata": {},
   "outputs": [
    {
     "name": "stdout",
     "output_type": "stream",
     "text": [
      "The length of the set is :  5\n"
     ]
    }
   ],
   "source": [
    "my_set = {10,20,30,40,50}\n",
    "len(my_set)\n",
    "print(\"The length of the set is : \",len(my_set))"
   ]
  },
  {
   "cell_type": "markdown",
   "id": "0c8b1667-7e17-4ae9-8366-60f404d448bf",
   "metadata": {},
   "source": [
    "##### 8.Iterate through a set using a loop"
   ]
  },
  {
   "cell_type": "code",
   "execution_count": 27,
   "id": "58ec8485-5fe6-4b4d-a943-b728ccf09bed",
   "metadata": {},
   "outputs": [
    {
     "name": "stdout",
     "output_type": "stream",
     "text": [
      "Iterating through the set: \n",
      "50\n",
      "20\n",
      "40\n",
      "10\n",
      "30\n"
     ]
    }
   ],
   "source": [
    "my_set = {10,20,30,40,50}\n",
    "print(\"Iterating through the set: \")\n",
    "for element in my_set:\n",
    "    print(element)"
   ]
  },
  {
   "cell_type": "markdown",
   "id": "21f0d041-573e-4fe7-84a9-312e68c4d6a5",
   "metadata": {},
   "source": [
    "### Set Operations"
   ]
  },
  {
   "cell_type": "markdown",
   "id": "f04fa42e-6b62-49d8-b4ef-e6e59141720d",
   "metadata": {},
   "source": [
    "##### 9.Find the union of two sets"
   ]
  },
  {
   "cell_type": "code",
   "execution_count": 29,
   "id": "d05ffc76-d5ae-4dfb-bdea-5419a7382f6f",
   "metadata": {},
   "outputs": [
    {
     "name": "stdout",
     "output_type": "stream",
     "text": [
      "Union of set1 and set2 is:  {1, 2, 3, 4, 5, 6}\n"
     ]
    }
   ],
   "source": [
    "set1 = {1,2,3,4}\n",
    "set2 = {3,4,5,6}\n",
    "union_set = set1.union(set2)\n",
    "print(\"Union of set1 and set2 is: \",union_set)\n"
   ]
  },
  {
   "cell_type": "markdown",
   "id": "3004f5b4-71bc-49bb-ab6b-1d79dafc8fbf",
   "metadata": {},
   "source": [
    "##### 10.Find the intersection of two sets"
   ]
  },
  {
   "cell_type": "code",
   "execution_count": 31,
   "id": "51690e99-abdb-4d66-88ae-0bfdc67f4ea0",
   "metadata": {},
   "outputs": [
    {
     "name": "stdout",
     "output_type": "stream",
     "text": [
      "Tntersection of set1 and set2 is :  {3, 4}\n"
     ]
    }
   ],
   "source": [
    "set1 = {1,2,3,4}\n",
    "set2 = {3,4,5,6}\n",
    "intersection_set = set1.intersection(set2)\n",
    "print(\"Tntersection of set1 and set2 is : \",intersection_set)"
   ]
  },
  {
   "cell_type": "markdown",
   "id": "f7c789f5-e5c8-4490-9216-17b6f2f852b2",
   "metadata": {},
   "source": [
    "##### 11.Find the difference between two sets"
   ]
  },
  {
   "cell_type": "code",
   "execution_count": 33,
   "id": "d9a1c656-71fb-4e4a-a470-b7049278f299",
   "metadata": {},
   "outputs": [
    {
     "name": "stdout",
     "output_type": "stream",
     "text": [
      "Difference between set1 and set2 is:  {1, 2, 3}\n"
     ]
    }
   ],
   "source": [
    "set1 = {1,2,3,4,5}\n",
    "set2 = {4,5,6,7,8}\n",
    "difference = set1-set2\n",
    "print(\"Difference between set1 and set2 is: \",difference)"
   ]
  },
  {
   "cell_type": "markdown",
   "id": "7e8170a1-0227-4756-8415-424b6be417e8",
   "metadata": {},
   "source": [
    "##### 12.Find the symmetric difference between two sets"
   ]
  },
  {
   "cell_type": "code",
   "execution_count": 35,
   "id": "146befca-9fc6-4c22-af22-df3d8568b079",
   "metadata": {},
   "outputs": [
    {
     "name": "stdout",
     "output_type": "stream",
     "text": [
      "Symmetric difference between set1 and set2 is:  {1, 2, 3, 6, 7, 8}\n"
     ]
    }
   ],
   "source": [
    "set1 = {1,2,3,4,5}\n",
    "set2 = {4,5,6,7,8}\n",
    "symmetric_difference = set1.symmetric_difference(set2)\n",
    "print(\"Symmetric difference between set1 and set2 is: \",symmetric_difference )"
   ]
  },
  {
   "cell_type": "markdown",
   "id": "d8d047f4-8819-4477-be77-ac9efaccb228",
   "metadata": {},
   "source": [
    "##### 13.Check if one set is subset of another"
   ]
  },
  {
   "cell_type": "code",
   "execution_count": 37,
   "id": "4c9f8ee5-2427-4ea0-a777-1db7c3f1d56c",
   "metadata": {},
   "outputs": [
    {
     "name": "stdout",
     "output_type": "stream",
     "text": [
      "Set is a subset of set2\n"
     ]
    }
   ],
   "source": [
    "set1 = {1,2,3}\n",
    "set2 = {1,2,3,4,5}\n",
    "is_subset=set1.issubset(set2)\n",
    "if is_subset:\n",
    "    print(\"Set is a subset of set2\")\n",
    "else:\n",
    "    print(\"Set is NOT a subset of set2\")"
   ]
  },
  {
   "cell_type": "markdown",
   "id": "9d496577-600b-43bd-ad02-61edf8ecd366",
   "metadata": {},
   "source": [
    "##### 14.Check if one set is superset of another"
   ]
  },
  {
   "cell_type": "code",
   "execution_count": 39,
   "id": "17fbc1a7-f646-4821-b9f5-c766071a23e8",
   "metadata": {},
   "outputs": [
    {
     "name": "stdout",
     "output_type": "stream",
     "text": [
      "Set is a superset of set2\n"
     ]
    }
   ],
   "source": [
    "set1={1,2,3,4,5}\n",
    "set2={2,3}\n",
    "is_superset=set1.issuperset(set2)\n",
    "if is_superset:\n",
    "    print(\"Set is a superset of set2\")\n",
    "else:\n",
    "    print(\"Set is NOT a superset of set2\")"
   ]
  },
  {
   "cell_type": "markdown",
   "id": "4f058384-0d41-4e31-b2e5-ba9422140294",
   "metadata": {},
   "source": [
    "##### 15.Check if two sets are disjoint"
   ]
  },
  {
   "cell_type": "code",
   "execution_count": 41,
   "id": "c3a76a9d-347c-4a21-a6ac-36f840a03c02",
   "metadata": {},
   "outputs": [
    {
     "name": "stdout",
     "output_type": "stream",
     "text": [
      "set1 and set2 are disjoint (no common elements)\n"
     ]
    }
   ],
   "source": [
    "set1={1,2,3}\n",
    "set2={4,5,6}\n",
    "are_disjoint = set1.isdisjoint(set2)\n",
    "if are_disjoint:\n",
    "    print(\"set1 and set2 are disjoint (no common elements)\")\n",
    "else:\n",
    "     print(\"set1 and set2 are NOT disjoint (they share common elements)\")"
   ]
  },
  {
   "cell_type": "markdown",
   "id": "8f91ba4f-48c3-4113-b6f8-6c63b6780fb8",
   "metadata": {},
   "source": [
    "### Set Applications"
   ]
  },
  {
   "cell_type": "markdown",
   "id": "dbfa3bea-be26-419a-88fa-a8b75b275fef",
   "metadata": {},
   "source": [
    "##### 16.Remove duplicates from a list using set"
   ]
  },
  {
   "cell_type": "code",
   "execution_count": 43,
   "id": "66549c8f-a8c9-4b9b-906a-20eb0893032d",
   "metadata": {},
   "outputs": [
    {
     "name": "stdout",
     "output_type": "stream",
     "text": [
      "Original list:  [1, 2, 2, 3, 4, 4, 5, 1, 6]\n",
      "List after removing duplicates:  [1, 2, 3, 4, 5, 6]\n"
     ]
    }
   ],
   "source": [
    "original_list=[1,2,2,3,4,4,5,1,6]\n",
    "unique_list=list(set(original_list))\n",
    "print(\"Original list: \",original_list)\n",
    "print(\"List after removing duplicates: \",unique_list)"
   ]
  },
  {
   "cell_type": "markdown",
   "id": "709f9678-18fa-4ee6-8c6a-ed6559836c26",
   "metadata": {},
   "source": [
    "##### 17.Convert a list to a set and back to a list"
   ]
  },
  {
   "cell_type": "code",
   "execution_count": 52,
   "id": "6652f25a-e7d8-4295-be55-3b8bf557e698",
   "metadata": {},
   "outputs": [
    {
     "name": "stdout",
     "output_type": "stream",
     "text": [
      "Original list:  [1, 2, 2, 3, 4, 4, 5]\n",
      "After converting to set (duplicates removed):  {1, 2, 3, 4, 5}\n",
      "After converting back to list:  [1, 2, 3, 4, 5]\n"
     ]
    }
   ],
   "source": [
    "original_list=[1,2,2,3,4,4,5]\n",
    "temp_set=set(original_list)\n",
    "final_list=list(temp_set)\n",
    "print(\"Original list: \",original_list)\n",
    "print(\"After converting to set (duplicates removed): \",temp_set)\n",
    "print(\"After converting back to list: \",final_list)"
   ]
  },
  {
   "cell_type": "markdown",
   "id": "ee1f7b22-403d-4576-8aec-2dca37f380e2",
   "metadata": {},
   "source": [
    "##### 18.Find common elements in two lists using sets"
   ]
  },
  {
   "cell_type": "code",
   "execution_count": 54,
   "id": "57bfdda2-b7dd-4241-b94e-c154679ac5b9",
   "metadata": {},
   "outputs": [
    {
     "name": "stdout",
     "output_type": "stream",
     "text": [
      "Common elements: [4, 5]\n"
     ]
    }
   ],
   "source": [
    "list1=[1,2,3,4,5]\n",
    "list2=[4,5,6,7,8]\n",
    "set1=set(list1)\n",
    "set2=set(list2)\n",
    "common_elements=set1 & set2\n",
    "common_list=list(common_elements)\n",
    "print(\"Common elements:\",common_list)"
   ]
  },
  {
   "cell_type": "markdown",
   "id": "23ec55f8-4960-4e8d-8999-9dfd9f0d5a45",
   "metadata": {},
   "source": [
    "##### 19.Get elements in one list but not in another using sets"
   ]
  },
  {
   "cell_type": "code",
   "execution_count": 56,
   "id": "c559fcc0-5c52-4954-b48c-949d00811c67",
   "metadata": {},
   "outputs": [
    {
     "name": "stdout",
     "output_type": "stream",
     "text": [
      "Elements in list1 but not in list2: [1, 2, 3]\n"
     ]
    }
   ],
   "source": [
    "list1=[1,2,3,4,5]\n",
    "list2=[4,5,6,7,8]\n",
    "set1=set(list1)\n",
    "set2=set(list2)\n",
    "difference=set1-set2\n",
    "result_list=list(difference)\n",
    "print(\"Elements in list1 but not in list2:\",result_list)"
   ]
  },
  {
   "cell_type": "markdown",
   "id": "46fa6f26-ac3d-4c7d-89cb-1c1b887bbc4b",
   "metadata": {},
   "source": [
    "##### 20.Use set comprehension to generate a set (squares)"
   ]
  },
  {
   "cell_type": "code",
   "execution_count": 58,
   "id": "1639daf5-4d99-4903-8e3d-5d3ccc548295",
   "metadata": {},
   "outputs": [
    {
     "name": "stdout",
     "output_type": "stream",
     "text": [
      "Set of squares from 1 to 10: {64, 1, 4, 36, 100, 9, 16, 49, 81, 25}\n"
     ]
    }
   ],
   "source": [
    "squares={x**2 for x in range(1,11)}\n",
    "print(\"Set of squares from 1 to 10:\",squares)"
   ]
  },
  {
   "cell_type": "markdown",
   "id": "ab5f6990-aeb0-4c26-aedc-c63569d35ef2",
   "metadata": {},
   "source": [
    "##### 21.Create a print a frozen set"
   ]
  },
  {
   "cell_type": "code",
   "execution_count": 60,
   "id": "28c5b5d2-520f-4b2f-ab49-6ec50438d657",
   "metadata": {},
   "outputs": [
    {
     "name": "stdout",
     "output_type": "stream",
     "text": [
      "Frozenset: frozenset({1, 2, 3, 4, 5})\n"
     ]
    }
   ],
   "source": [
    "normal_set={1,2,3,4,5}\n",
    "frozen = frozenset(normal_set)\n",
    "print(\"Frozenset:\",frozen)"
   ]
  }
 ],
 "metadata": {
  "kernelspec": {
   "display_name": "Python [conda env:base] *",
   "language": "python",
   "name": "conda-base-py"
  },
  "language_info": {
   "codemirror_mode": {
    "name": "ipython",
    "version": 3
   },
   "file_extension": ".py",
   "mimetype": "text/x-python",
   "name": "python",
   "nbconvert_exporter": "python",
   "pygments_lexer": "ipython3",
   "version": "3.12.7"
  }
 },
 "nbformat": 4,
 "nbformat_minor": 5
}
