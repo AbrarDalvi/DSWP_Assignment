{
 "cells": [
  {
   "cell_type": "markdown",
   "id": "5d5c0b86-025b-462d-89f5-6ac3e889c943",
   "metadata": {},
   "source": [
    "# Python Loops"
   ]
  },
  {
   "cell_type": "markdown",
   "id": "6b559b05-a78e-4f29-b73f-3892991ce3f6",
   "metadata": {},
   "source": [
    "### Pyhon has two primitive loop commands:\n",
    "- while loops \n",
    "- for loops"
   ]
  },
  {
   "cell_type": "markdown",
   "id": "6584ce13-11d7-4cf5-ac6c-4a688d2127ac",
   "metadata": {},
   "source": [
    "## The while loop"
   ]
  },
  {
   "cell_type": "markdown",
   "id": "d974b41d-d9a7-41ca-a39e-1ed3f461e459",
   "metadata": {},
   "source": [
    "#### With the while loop we can execute a set of statements as long as a condition is true."
   ]
  },
  {
   "cell_type": "code",
   "execution_count": 5,
   "id": "2ec05242-dc38-4547-b095-5bad47acc950",
   "metadata": {},
   "outputs": [
    {
     "name": "stdout",
     "output_type": "stream",
     "text": [
      "1\n",
      "2\n",
      "3\n",
      "4\n",
      "5\n"
     ]
    }
   ],
   "source": [
    "#Print i as long as i is less than 6:\n",
    "i=1\n",
    "while i<6:\n",
    "    print(i)\n",
    "    i+=1\n",
    "    #The while loop requires relevant variables to be ready, in this example we need to define an indexing variable , i, which we set to 1."
   ]
  },
  {
   "cell_type": "markdown",
   "id": "03c2f897-d80d-4100-9602-4e5e2beed09f",
   "metadata": {},
   "source": [
    "# The Break statement"
   ]
  },
  {
   "cell_type": "markdown",
   "id": "1ed16fe0-e50d-486e-8a68-4e40273ba90a",
   "metadata": {},
   "source": [
    "### With the break statement we can stop the loop even if the while condition is true:"
   ]
  },
  {
   "cell_type": "code",
   "execution_count": 22,
   "id": "0efbf4e4-0828-4b78-b556-1d52b2c88117",
   "metadata": {},
   "outputs": [
    {
     "name": "stdout",
     "output_type": "stream",
     "text": [
      "1\n",
      "2\n",
      "3\n"
     ]
    }
   ],
   "source": [
    "i=1\n",
    "while i<6 :\n",
    "    print(i)\n",
    "    if i==3:\n",
    "        break \n",
    "    i+=1"
   ]
  },
  {
   "cell_type": "markdown",
   "id": "69e88c8d-23aa-4ef1-889c-2c4200e9712c",
   "metadata": {},
   "source": [
    "# The Continue Statement"
   ]
  },
  {
   "cell_type": "markdown",
   "id": "28dca7b1-55f3-4985-bce5-a8b63c627af4",
   "metadata": {},
   "source": [
    "### With the continue statement we can stop the current iteration, and continue with the next:"
   ]
  },
  {
   "cell_type": "code",
   "execution_count": 33,
   "id": "9a20f113-37f1-4a51-a0e1-6c7d8ae8295c",
   "metadata": {},
   "outputs": [
    {
     "name": "stdout",
     "output_type": "stream",
     "text": [
      "1\n",
      "2\n",
      "4\n",
      "5\n",
      "6\n"
     ]
    }
   ],
   "source": [
    "i = 0\n",
    "while i < 6:\n",
    "    i+=1\n",
    "    if i==3:\n",
    "        continue\n",
    "    print(i)"
   ]
  },
  {
   "cell_type": "markdown",
   "id": "ba4cf398-9952-4da3-abb9-2e160506e037",
   "metadata": {},
   "source": [
    "# The Else Statement"
   ]
  },
  {
   "cell_type": "markdown",
   "id": "f64e3412-16a6-4b1f-8eae-46012b2df0eb",
   "metadata": {},
   "source": [
    "### With the else statement we can run a block of code once when the condition is no longer true:"
   ]
  },
  {
   "cell_type": "code",
   "execution_count": 37,
   "id": "7c55ee02-3760-4b99-bca9-e2b19c522ca5",
   "metadata": {},
   "outputs": [
    {
     "name": "stdout",
     "output_type": "stream",
     "text": [
      "1\n",
      "2\n",
      "3\n",
      "4\n",
      "5\n",
      " i is no longer less than 6\n"
     ]
    }
   ],
   "source": [
    "i=1\n",
    "while i<6:\n",
    "    print(i)\n",
    "    i+=1\n",
    "else:\n",
    "    print (\" i is no longer less than 6\")"
   ]
  },
  {
   "cell_type": "code",
   "execution_count": null,
   "id": "1cc4e104-3f03-4e71-95e7-da30a956355e",
   "metadata": {},
   "outputs": [],
   "source": []
  }
 ],
 "metadata": {
  "kernelspec": {
   "display_name": "Python [conda env:base] *",
   "language": "python",
   "name": "conda-base-py"
  },
  "language_info": {
   "codemirror_mode": {
    "name": "ipython",
    "version": 3
   },
   "file_extension": ".py",
   "mimetype": "text/x-python",
   "name": "python",
   "nbconvert_exporter": "python",
   "pygments_lexer": "ipython3",
   "version": "3.12.7"
  }
 },
 "nbformat": 4,
 "nbformat_minor": 5
}
